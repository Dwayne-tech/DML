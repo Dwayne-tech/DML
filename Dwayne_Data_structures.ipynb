{
  "nbformat": 4,
  "nbformat_minor": 0,
  "metadata": {
    "colab": {
      "provenance": [],
      "authorship_tag": "ABX9TyPJMab+GqIcfL3g0DAsyage",
      "include_colab_link": true
    },
    "kernelspec": {
      "name": "python3",
      "display_name": "Python 3"
    },
    "language_info": {
      "name": "python"
    }
  },
  "cells": [
    {
      "cell_type": "markdown",
      "metadata": {
        "id": "view-in-github",
        "colab_type": "text"
      },
      "source": [
        "<a href=\"https://colab.research.google.com/github/Dwayne-tech/DML/blob/main/Dwayne_Data_structures.ipynb\" target=\"_parent\"><img src=\"https://colab.research.google.com/assets/colab-badge.svg\" alt=\"Open In Colab\"/></a>"
      ]
    },
    {
      "cell_type": "code",
      "execution_count": null,
      "metadata": {
        "id": "Gm2epTXQ-T7z"
      },
      "outputs": [],
      "source": []
    },
    {
      "cell_type": "code",
      "execution_count": 2,
      "metadata": {
        "id": "YlPcrInO8-rJ",
        "outputId": "b1c4e121-442c-4d47-8d99-ad9b142b06b2",
        "colab": {
          "base_uri": "https://localhost:8080/"
        }
      },
      "outputs": [
        {
          "output_type": "stream",
          "name": "stdout",
          "text": [
            "menu:\n",
            "1. add item\n",
            "2. remove item\n",
            "3. view items\n",
            "4. exit\n",
            "enter your choice:1\n",
            "enter the item to add:3\n",
            "menu:\n",
            "1. add item\n",
            "2. remove item\n",
            "3. view items\n",
            "4. exit\n",
            "enter your choice:4\n",
            "exiting the shopping list app.\n",
            "THankyou for shopping with us.\n"
          ]
        }
      ],
      "source": [
        "shopping_list = []\n",
        "\n",
        "while True:\n",
        "    print(\"menu:\")\n",
        "    print(\"1. add item\")\n",
        "    print(\"2. remove item\")\n",
        "    print(\"3. view items\")\n",
        "    print(\"4. exit\")\n",
        "\n",
        "    choice = input(\"enter your choice:\")\n",
        "\n",
        "    if choice == \"1\":\n",
        "        if len(shopping_list) < 5:\n",
        "            item = input(\"enter the item to add:\")\n",
        "            shopping_list.append(item)\n",
        "        else:\n",
        "            print(\"you have reached the maximum limit for items.\")\n",
        "\n",
        "    elif choice == \"2\":\n",
        "        item = input(\"enter the item to remove:\")\n",
        "        if item in shopping_list:\n",
        "            shopping_list.remove(item)\n",
        "        else:\n",
        "            print(\"item not found in the list.\")\n",
        "\n",
        "    elif choice == \"3\":\n",
        "        print(\"shopping list:\")\n",
        "        for item in shopping_list:\n",
        "            print(item)\n",
        "\n",
        "    elif choice == \"4\":\n",
        "        print(\"exiting the shopping list app.\")\n",
        "        break\n",
        "\n",
        "    else:\n",
        "        print(\"please try again\")\n",
        "\n",
        "print(\"THankyou for shopping with us.\")\n",
        "\n"
      ]
    }
  ]
}