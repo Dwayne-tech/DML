{
  "nbformat": 4,
  "nbformat_minor": 0,
  "metadata": {
    "colab": {
      "provenance": [],
      "include_colab_link": true
    },
    "kernelspec": {
      "name": "python3",
      "display_name": "Python 3"
    },
    "language_info": {
      "name": "python"
    }
  },
  "cells": [
    {
      "cell_type": "markdown",
      "metadata": {
        "id": "view-in-github",
        "colab_type": "text"
      },
      "source": [
        "<a href=\"https://colab.research.google.com/github/Dwayne-tech/DML/blob/main/Intro_to_python_Challenge_.ipynb\" target=\"_parent\"><img src=\"https://colab.research.google.com/assets/colab-badge.svg\" alt=\"Open In Colab\"/></a>"
      ]
    },
    {
      "cell_type": "code",
      "source": [
        "#Subjects Grade\n",
        "math_grade = float(input(\"Enter your Math grade: \"))\n",
        "science_grade = float(input(\"Enter your Science grade: \"))\n",
        "english_grade = float(input(\"Enter your English grade: \"))\n",
        "\n",
        "#Calculate the GPA\n",
        "gpa = (math_grade + science_grade + english_grade) / 3\n",
        "\n",
        "#Final GPA\n",
        "print(\"Your GPA is:\", gpa)"
      ],
      "metadata": {
        "id": "P6Jn7GNqLvyc"
      },
      "execution_count": null,
      "outputs": []
    },
    {
      "cell_type": "code",
      "source": [
        "#BMI Calculator\n",
        "weight=float(input(\"Enter your weight in kg\"))\n",
        "height=float(input(\"Enter your height in meters\"))\n",
        "\n",
        "bmi=weight/(height*height)\n",
        "#Underweight,Normalweight,Overweight,Obese\n",
        "if bmi<18.5:\n",
        "    print(\"You are underweight\")\n",
        "elif bmi>=18.5 and bmi<=25:\n",
        "     print(\"You are normal weight\")\n",
        "elif bmi>25 and bmi<=30:\n",
        "     print(\"You are Overweight\")\n",
        "elif bmi>30:\n",
        "     print(\"You are Obese\")\n",
        "#bmi results\n",
        "print(\"Your bmi is:\",bmi)"
      ],
      "metadata": {
        "id": "AnbwRpQ1Rbig"
      },
      "execution_count": null,
      "outputs": []
    },
    {
      "cell_type": "code",
      "source": [],
      "metadata": {
        "id": "-qPpk7cFaITh"
      },
      "execution_count": null,
      "outputs": []
    },
    {
      "cell_type": "code",
      "source": [
        "#Guess The Number\n",
        "import random # imports the random module\n",
        "\n",
        "print(\"Guess the Number To Win a Prize\")\n",
        "random_number = random.randint(1, 100)\n",
        "\n",
        "for i in range(5):\n",
        "  print(f\"You have {5-i} chances left\")\n",
        "  user = int(input(\"Guess the Number: \"))\n",
        "  if user == random_number:\n",
        "    print(\"Correct\")\n",
        "    break\n",
        "  elif user > random_number:\n",
        "    print(\"Higher\")\n",
        "  elif user < random_number:\n",
        "    print(\"Lower\")"
      ],
      "metadata": {
        "colab": {
          "base_uri": "https://localhost:8080/"
        },
        "id": "dX11dYtaeXXA",
        "outputId": "eec6693a-3b56-450e-c4c3-1fa5b5a939cf"
      },
      "execution_count": 3,
      "outputs": [
        {
          "output_type": "stream",
          "name": "stdout",
          "text": [
            "Guess the Number To Win a Prize\n",
            "You have 5 chances left\n",
            "Guess the Number: 65\n",
            "Higher\n",
            "You have 4 chances left\n",
            "Guess the Number: 45\n",
            "Lower\n",
            "You have 3 chances left\n",
            "Guess the Number: 55\n",
            "Higher\n",
            "You have 2 chances left\n",
            "Guess the Number: 53\n",
            "Correct\n"
          ]
        }
      ]
    }
  ]
}