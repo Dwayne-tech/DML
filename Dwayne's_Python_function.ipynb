{
  "nbformat": 4,
  "nbformat_minor": 0,
  "metadata": {
    "colab": {
      "provenance": [],
      "authorship_tag": "ABX9TyOXUZMqW2I0hBl+EEjeQqQQ",
      "include_colab_link": true
    },
    "kernelspec": {
      "name": "python3",
      "display_name": "Python 3"
    },
    "language_info": {
      "name": "python"
    }
  },
  "cells": [
    {
      "cell_type": "markdown",
      "metadata": {
        "id": "view-in-github",
        "colab_type": "text"
      },
      "source": [
        "<a href=\"https://colab.research.google.com/github/Dwayne-tech/DML/blob/main/Dwayne's_Python_function.ipynb\" target=\"_parent\"><img src=\"https://colab.research.google.com/assets/colab-badge.svg\" alt=\"Open In Colab\"/></a>"
      ]
    },
    {
      "cell_type": "code",
      "source": [
        "# Mathematical functions\n",
        "def add(x, y):\n",
        "    return x + y\n",
        "#Subtraction\n",
        "def subtract(x, y):\n",
        "    return x - y\n",
        "#Multiplication\n",
        "def multiply(x, y):\n",
        "    return x * y\n",
        "#Division\n",
        "def divide(x, y):\n",
        "    if y != 0:\n",
        "        return x / y\n",
        "    else:\n",
        "        return \"Error! Division by zero.\"\n",
        "\n",
        "# Create a dictionary to store the operations\n",
        "operations = {\n",
        "    '+': add,\n",
        "    '-': subtract,\n",
        "    '*': multiply,\n",
        "    '/': divide\n",
        "}\n",
        "\n",
        "# Define the calculator function\n",
        "def calculator():\n",
        "    num1 = float(input(\"Enter the first number: \"))\n",
        "    #For loop\n",
        "    for symbol in operations:\n",
        "        print(symbol)\n",
        "\n",
        "    should_continue_calculation = True\n",
        "    #While loop\n",
        "    while should_continue_calculation:\n",
        "        operation_symbol = input(\"Pick an operation: \")\n",
        "        num2 = float(input(\"Enter the next number: \"))\n",
        "\n",
        "        calculation_function = operations[operation_symbol]\n",
        "        answer = calculation_function(num1, num2)\n",
        "     #Print function\n",
        "        print(f\"{num1} {operation_symbol} {num2} = {answer}\")\n",
        "\n",
        "        if input(f\"Type 'y' to continue calculating with {answer}, or type 'n' to start a new calculation: \") == 'y':\n",
        "            num1 = answer\n",
        "        else:\n",
        "            should_continue_calculation = False\n",
        "            print(\"Calculation Completed\")\n",
        "            print(\"Thank you for using the calculator!\")\n",
        "            calculator()\n",
        "\n",
        "#Calculation\n",
        "calculator()\n"
      ],
      "metadata": {
        "colab": {
          "base_uri": "https://localhost:8080/"
        },
        "id": "Kd7OieR_OCr5",
        "outputId": "9c1a99da-f607-4a51-bad1-3c8cd3250fd1"
      },
      "execution_count": null,
      "outputs": [
        {
          "output_type": "stream",
          "name": "stdout",
          "text": [
            "Enter the first number: 45\n",
            "+\n",
            "-\n",
            "*\n",
            "/\n",
            "Pick an operation: -\n",
            "Enter the next number: 5\n",
            "45.0 - 5.0 = 40.0\n",
            "Type 'y' to continue calculating with 40.0, or type 'n' to start a new calculation: n\n",
            "Calculation Completed\n",
            "Thank you for using the calculator!\n"
          ]
        }
      ]
    }
  ]
}