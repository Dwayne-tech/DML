{
  "nbformat": 4,
  "nbformat_minor": 0,
  "metadata": {
    "colab": {
      "provenance": [],
      "include_colab_link": true
    },
    "kernelspec": {
      "name": "python3",
      "display_name": "Python 3"
    },
    "language_info": {
      "name": "python"
    }
  },
  "cells": [
    {
      "cell_type": "markdown",
      "metadata": {
        "id": "view-in-github",
        "colab_type": "text"
      },
      "source": [
        "<a href=\"https://colab.research.google.com/github/Dwayne-tech/DML/blob/main/Data_Quest_Python_Syntax_Fundamentals_.ipynb\" target=\"_parent\"><img src=\"https://colab.research.google.com/assets/colab-badge.svg\" alt=\"Open In Colab\"/></a>"
      ]
    },
    {
      "cell_type": "code",
      "execution_count": null,
      "metadata": {
        "colab": {
          "base_uri": "https://localhost:8080/"
        },
        "id": "gGe0ouyZDi4-",
        "outputId": "b331772b-6f59-4122-9953-c1a75a59e602"
      },
      "outputs": [
        {
          "output_type": "stream",
          "name": "stdout",
          "text": [
            "Hello World! \n"
          ]
        }
      ],
      "source": [
        "#Hello World!\n",
        "print(\"Hello World! \")"
      ]
    },
    {
      "cell_type": "code",
      "source": [
        "#Name,Age,Color\n",
        "Name=\"Wafula\"\n",
        "Age=20\n",
        "Color=\"Black\"\n",
        "print(Name,Age,Color)\n"
      ],
      "metadata": {
        "colab": {
          "base_uri": "https://localhost:8080/"
        },
        "id": "cqkW2G3iErf4",
        "outputId": "91fa3b29-7c44-4dc4-f9d3-1781e99093ad"
      },
      "execution_count": 1,
      "outputs": [
        {
          "output_type": "stream",
          "name": "stdout",
          "text": [
            "Wafula 20 Black\n"
          ]
        }
      ]
    },
    {
      "cell_type": "code",
      "source": [
        "#Area of a Rectangle\n",
        "x=20\n",
        "y=30\n",
        "print(x*y)"
      ],
      "metadata": {
        "colab": {
          "base_uri": "https://localhost:8080/"
        },
        "id": "L_Et2KObE8lw",
        "outputId": "15fed17a-c13a-4cd0-acc3-0d87a8abd60d"
      },
      "execution_count": null,
      "outputs": [
        {
          "output_type": "stream",
          "name": "stdout",
          "text": [
            "600\n"
          ]
        }
      ]
    },
    {
      "cell_type": "code",
      "source": [
        "#Favourite quote\n",
        "print(\"ANGUKA NAYO\")\n",
        "print(\"anguka nayo\")"
      ],
      "metadata": {
        "colab": {
          "base_uri": "https://localhost:8080/"
        },
        "id": "SfKQ0yDXFLcI",
        "outputId": "72120b2c-8841-4372-b210-985478a569ed"
      },
      "execution_count": null,
      "outputs": [
        {
          "output_type": "stream",
          "name": "stdout",
          "text": [
            "ANGUKA NAYO\n",
            "anguka nayo\n"
          ]
        }
      ]
    },
    {
      "cell_type": "code",
      "source": [
        "#Age comparison\n",
        "Age=16\n",
        "if Age>=18:\n",
        "    print(\"Adult\")\n",
        "else:\n",
        "    print(\"Minor\")\n"
      ],
      "metadata": {
        "colab": {
          "base_uri": "https://localhost:8080/"
        },
        "id": "EgK549uHFiub",
        "outputId": "02573e26-e27f-41e4-a455-8b919b8e60a6"
      },
      "execution_count": null,
      "outputs": [
        {
          "output_type": "stream",
          "name": "stdout",
          "text": [
            "Minor\n"
          ]
        }
      ]
    },
    {
      "cell_type": "code",
      "source": [
        "#Favourite fruits\n",
        "Fruits=(\"Mango\",\"Banana\",\"Apple\")\n",
        "x,y,z=Fruits\n",
        "print(x)\n",
        "print(y)\n",
        "print(z)"
      ],
      "metadata": {
        "colab": {
          "base_uri": "https://localhost:8080/"
        },
        "id": "U9cHbILfGGJh",
        "outputId": "c61570a0-3f50-4d25-883d-48d2035124b5"
      },
      "execution_count": null,
      "outputs": [
        {
          "output_type": "stream",
          "name": "stdout",
          "text": [
            "Mango\n",
            "Banana\n",
            "Apple\n"
          ]
        }
      ]
    },
    {
      "cell_type": "code",
      "source": [],
      "metadata": {
        "id": "T7yPnDtwHbqJ"
      },
      "execution_count": null,
      "outputs": []
    }
  ]
}