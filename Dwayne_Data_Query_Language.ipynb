{
  "nbformat": 4,
  "nbformat_minor": 0,
  "metadata": {
    "colab": {
      "provenance": [],
      "authorship_tag": "ABX9TyMBWmBk63zxlR+FBFuDJrBi",
      "include_colab_link": true
    },
    "kernelspec": {
      "name": "python3",
      "display_name": "Python 3"
    },
    "language_info": {
      "name": "python"
    }
  },
  "cells": [
    {
      "cell_type": "markdown",
      "metadata": {
        "id": "view-in-github",
        "colab_type": "text"
      },
      "source": [
        "<a href=\"https://colab.research.google.com/github/Dwayne-tech/DML/blob/main/Dwayne_Data_Query_Language.ipynb\" target=\"_parent\"><img src=\"https://colab.research.google.com/assets/colab-badge.svg\" alt=\"Open In Colab\"/></a>"
      ]
    },
    {
      "cell_type": "code",
      "execution_count": 1,
      "metadata": {
        "id": "56KKZTM6soq0"
      },
      "outputs": [],
      "source": [
        "%load_ext sql\n",
        "%sql sqlite:///chinook.db\n"
      ]
    },
    {
      "cell_type": "code",
      "source": [
        "%%sql\n",
        "CREATE TABLE Products (\n",
        "  ProductID INT PRIMARY KEY,\n",
        "  ProductName VARCHAR(20) NOT NULL,\n",
        "  ProductType VARCHAR(20) NOT NULL,\n",
        "  Price DECIMAL(10, 2) NOT NULL\n",
        ");\n"
      ],
      "metadata": {
        "colab": {
          "base_uri": "https://localhost:8080/"
        },
        "id": "h9gUcYtV8cKC",
        "outputId": "be270b5a-5603-4b99-b57f-2926c01c09f2"
      },
      "execution_count": null,
      "outputs": [
        {
          "output_type": "stream",
          "name": "stdout",
          "text": [
            " * sqlite:///chinook.db\n",
            "Done.\n"
          ]
        },
        {
          "output_type": "execute_result",
          "data": {
            "text/plain": [
              "[]"
            ]
          },
          "metadata": {},
          "execution_count": 3
        }
      ]
    },
    {
      "cell_type": "code",
      "source": [
        "%%sql\n",
        "CREATE TABLE Customers (\n",
        "  CustomerID INT PRIMARY KEY,\n",
        "  CustomerName VARCHAR(20) NOT NULL,\n",
        "  Email VARCHAR(50) NOT NULL,\n",
        "  Phone VARCHAR(20) NOT NULL\n",
        ");"
      ],
      "metadata": {
        "colab": {
          "base_uri": "https://localhost:8080/"
        },
        "id": "CWLG0I9z9Qpi",
        "outputId": "73290131-3a8f-455b-ff4a-2898cbd108b4"
      },
      "execution_count": null,
      "outputs": [
        {
          "output_type": "stream",
          "name": "stdout",
          "text": [
            " * sqlite:///chinook.db\n",
            "Done.\n"
          ]
        },
        {
          "output_type": "execute_result",
          "data": {
            "text/plain": [
              "[]"
            ]
          },
          "metadata": {},
          "execution_count": 4
        }
      ]
    },
    {
      "cell_type": "code",
      "source": [
        "%%sql\n",
        "CREATE TABLE Orders (\n",
        "  OrderID INT PRIMARY KEY,\n",
        "  CustomerID INT NOT NULL,\n",
        "  OrderDate DATE NOT NULL,\n",
        "  FOREIGN KEY (CustomerID) REFERENCES Customers(CustomerID)\n",
        ");"
      ],
      "metadata": {
        "colab": {
          "base_uri": "https://localhost:8080/"
        },
        "id": "KXhHV4gt9deR",
        "outputId": "47a897d5-3154-4c8a-8367-1da35729806e"
      },
      "execution_count": null,
      "outputs": [
        {
          "output_type": "stream",
          "name": "stdout",
          "text": [
            " * sqlite:///chinook.db\n",
            "Done.\n"
          ]
        },
        {
          "output_type": "execute_result",
          "data": {
            "text/plain": [
              "[]"
            ]
          },
          "metadata": {},
          "execution_count": 5
        }
      ]
    },
    {
      "cell_type": "code",
      "source": [
        "%%sql\n",
        "CREATE TABLE OrderDetails (\n",
        "  OrderDetailID INT PRIMARY KEY,\n",
        "  OrderID INT NOT NULL,\n",
        "  ProductID INT NOT NULL,\n",
        "  Quantity INT NOT NULL,\n",
        "  FOREIGN KEY (OrderID) REFERENCES Orders(OrderID),\n",
        "  FOREIGN KEY (ProductID) REFERENCES Products(ProductID)\n",
        ");"
      ],
      "metadata": {
        "colab": {
          "base_uri": "https://localhost:8080/"
        },
        "id": "c6Jc2IWE9jzh",
        "outputId": "ddafa2d0-2b7a-46eb-a6a3-4be4e94860ad"
      },
      "execution_count": null,
      "outputs": [
        {
          "output_type": "stream",
          "name": "stdout",
          "text": [
            " * sqlite:///chinook.db\n",
            "Done.\n"
          ]
        },
        {
          "output_type": "execute_result",
          "data": {
            "text/plain": [
              "[]"
            ]
          },
          "metadata": {},
          "execution_count": 6
        }
      ]
    },
    {
      "cell_type": "code",
      "source": [
        "%%sql\n",
        "CREATE TABLE ProductTypes (\n",
        "  ProductTypeID INT PRIMARY KEY,\n",
        "  ProductTypeName VARCHAR(255) NOT NULL\n",
        ");\n"
      ],
      "metadata": {
        "colab": {
          "base_uri": "https://localhost:8080/"
        },
        "id": "PCnOQb3Q9_1K",
        "outputId": "188de92a-f1d6-4c76-b847-6e49b587eaff"
      },
      "execution_count": null,
      "outputs": [
        {
          "output_type": "stream",
          "name": "stdout",
          "text": [
            " * sqlite:///chinook.db\n",
            "Done.\n"
          ]
        },
        {
          "output_type": "execute_result",
          "data": {
            "text/plain": [
              "[]"
            ]
          },
          "metadata": {},
          "execution_count": 7
        }
      ]
    },
    {
      "cell_type": "code",
      "source": [
        "%%sql\n",
        "INSERT INTO Products (ProductID, ProductName, ProductType, Price)\n",
        "VALUES\n",
        "  (1, 'Widget A', 'Widget', 10.00),\n",
        "  (2, 'Widget B', 'Widget', 15.00),\n",
        "  (3, 'Gadget X', 'Gadget', 20.00),\n",
        "  (4, 'Gadget Y', 'Gadget', 25.00),\n",
        "  (5, 'Doohickey Z', 'Doohickey', 30.00);"
      ],
      "metadata": {
        "colab": {
          "base_uri": "https://localhost:8080/"
        },
        "id": "9GqzoFOB-Er3",
        "outputId": "a02a6d30-4a51-4e15-d889-2f44578d217d"
      },
      "execution_count": null,
      "outputs": [
        {
          "output_type": "stream",
          "name": "stdout",
          "text": [
            " * sqlite:///chinook.db\n",
            "5 rows affected.\n"
          ]
        },
        {
          "output_type": "execute_result",
          "data": {
            "text/plain": [
              "[]"
            ]
          },
          "metadata": {},
          "execution_count": 8
        }
      ]
    },
    {
      "cell_type": "code",
      "source": [
        "%%sql\n",
        "INSERT INTO Customers (CustomerID, CustomerName, Email, Phone)\n",
        "VALUES\n",
        "  (1, 'John Smith', 'john@example.com', '123-456-7890'),\n",
        "  (2, 'Jane Doe', 'jane.doe@example.com', '987-654-3210'),\n",
        "  (3, 'Alice Brown', 'alice.brown@example.com', '456-789-0123');"
      ],
      "metadata": {
        "colab": {
          "base_uri": "https://localhost:8080/"
        },
        "id": "7XKxD_N3-eJ7",
        "outputId": "871e62d6-8749-4d16-94ee-442c53995da0"
      },
      "execution_count": null,
      "outputs": [
        {
          "output_type": "stream",
          "name": "stdout",
          "text": [
            " * sqlite:///chinook.db\n",
            "3 rows affected.\n"
          ]
        },
        {
          "output_type": "execute_result",
          "data": {
            "text/plain": [
              "[]"
            ]
          },
          "metadata": {},
          "execution_count": 9
        }
      ]
    },
    {
      "cell_type": "code",
      "source": [
        "%%sql\n",
        "INSERT INTO Orders (OrderID, CustomerID, OrderDate)\n",
        "VALUES\n",
        "  (101, 1, '2024-05-01'),\n",
        "  (102, 2, '2024-05-02'),\n",
        "  (103, 3, '2024-05-01');"
      ],
      "metadata": {
        "colab": {
          "base_uri": "https://localhost:8080/"
        },
        "id": "7-7i96k4-lma",
        "outputId": "c8d32025-8558-46cf-8b10-fd982b2647c5"
      },
      "execution_count": null,
      "outputs": [
        {
          "output_type": "stream",
          "name": "stdout",
          "text": [
            " * sqlite:///chinook.db\n",
            "3 rows affected.\n"
          ]
        },
        {
          "output_type": "execute_result",
          "data": {
            "text/plain": [
              "[]"
            ]
          },
          "metadata": {},
          "execution_count": 10
        }
      ]
    },
    {
      "cell_type": "code",
      "source": [
        "%%sql\n",
        "INSERT INTO OrderDetails (OrderDetailID, OrderID, ProductID, Quantity)\n",
        "VALUES\n",
        "  (1, 101, 1, 2),\n",
        "  (2, 101, 3, 1),\n",
        "  (3, 102, 2, 3),\n",
        "  (4, 102, 4, 2),\n",
        "  (5, 103, 5, 1);"
      ],
      "metadata": {
        "colab": {
          "base_uri": "https://localhost:8080/"
        },
        "id": "B_bVLRoh-ruU",
        "outputId": "494dbc36-5d6e-4cd6-830c-d4da80b9e7cd"
      },
      "execution_count": null,
      "outputs": [
        {
          "output_type": "stream",
          "name": "stdout",
          "text": [
            " * sqlite:///chinook.db\n",
            "5 rows affected.\n"
          ]
        },
        {
          "output_type": "execute_result",
          "data": {
            "text/plain": [
              "[]"
            ]
          },
          "metadata": {},
          "execution_count": 11
        }
      ]
    },
    {
      "cell_type": "code",
      "source": [
        "%%sql\n",
        "INSERT INTO ProductTypes (ProductTypeID, ProductTypeName)\n",
        "VALUES\n",
        "  (1, 'Widget'),\n",
        "  (2, 'Gadget'),\n",
        "  (3, 'Doohickey');"
      ],
      "metadata": {
        "colab": {
          "base_uri": "https://localhost:8080/"
        },
        "id": "mwbr1jRu-3d1",
        "outputId": "bde49047-2ad5-4498-e886-e8fde89644ab"
      },
      "execution_count": null,
      "outputs": [
        {
          "output_type": "stream",
          "name": "stdout",
          "text": [
            " * sqlite:///chinook.db\n",
            "3 rows affected.\n"
          ]
        },
        {
          "output_type": "execute_result",
          "data": {
            "text/plain": [
              "[]"
            ]
          },
          "metadata": {},
          "execution_count": 12
        }
      ]
    },
    {
      "cell_type": "code",
      "source": [
        "%%sql\n",
        "SELECT * FROM Products;"
      ],
      "metadata": {
        "colab": {
          "base_uri": "https://localhost:8080/",
          "height": 182
        },
        "id": "aAQqTaji-77Y",
        "outputId": "550f1cfa-3e4a-487a-b561-e6d0217f3782"
      },
      "execution_count": null,
      "outputs": [
        {
          "output_type": "stream",
          "name": "stdout",
          "text": [
            " * sqlite:///chinook.db\n",
            "Done.\n"
          ]
        },
        {
          "output_type": "execute_result",
          "data": {
            "text/plain": [
              "[(1, 'Widget A', 'Widget', 10),\n",
              " (2, 'Widget B', 'Widget', 15),\n",
              " (3, 'Gadget X', 'Gadget', 20),\n",
              " (4, 'Gadget Y', 'Gadget', 25),\n",
              " (5, 'Doohickey Z', 'Doohickey', 30)]"
            ],
            "text/html": [
              "<table>\n",
              "    <thead>\n",
              "        <tr>\n",
              "            <th>ProductID</th>\n",
              "            <th>ProductName</th>\n",
              "            <th>ProductType</th>\n",
              "            <th>Price</th>\n",
              "        </tr>\n",
              "    </thead>\n",
              "    <tbody>\n",
              "        <tr>\n",
              "            <td>1</td>\n",
              "            <td>Widget A</td>\n",
              "            <td>Widget</td>\n",
              "            <td>10</td>\n",
              "        </tr>\n",
              "        <tr>\n",
              "            <td>2</td>\n",
              "            <td>Widget B</td>\n",
              "            <td>Widget</td>\n",
              "            <td>15</td>\n",
              "        </tr>\n",
              "        <tr>\n",
              "            <td>3</td>\n",
              "            <td>Gadget X</td>\n",
              "            <td>Gadget</td>\n",
              "            <td>20</td>\n",
              "        </tr>\n",
              "        <tr>\n",
              "            <td>4</td>\n",
              "            <td>Gadget Y</td>\n",
              "            <td>Gadget</td>\n",
              "            <td>25</td>\n",
              "        </tr>\n",
              "        <tr>\n",
              "            <td>5</td>\n",
              "            <td>Doohickey Z</td>\n",
              "            <td>Doohickey</td>\n",
              "            <td>30</td>\n",
              "        </tr>\n",
              "    </tbody>\n",
              "</table>"
            ]
          },
          "metadata": {},
          "execution_count": 13
        }
      ]
    },
    {
      "cell_type": "code",
      "source": [
        "%%sql\n",
        "SELECT * FROM Customers;"
      ],
      "metadata": {
        "colab": {
          "base_uri": "https://localhost:8080/",
          "height": 139
        },
        "id": "qlMysE8k_An4",
        "outputId": "72e91084-073d-4f07-e6b8-45a36cd850f0"
      },
      "execution_count": null,
      "outputs": [
        {
          "output_type": "stream",
          "name": "stdout",
          "text": [
            " * sqlite:///chinook.db\n",
            "Done.\n"
          ]
        },
        {
          "output_type": "execute_result",
          "data": {
            "text/plain": [
              "[(1, 'John Smith', 'john@example.com', '123-456-7890'),\n",
              " (2, 'Jane Doe', 'jane.doe@example.com', '987-654-3210'),\n",
              " (3, 'Alice Brown', 'alice.brown@example.com', '456-789-0123')]"
            ],
            "text/html": [
              "<table>\n",
              "    <thead>\n",
              "        <tr>\n",
              "            <th>CustomerID</th>\n",
              "            <th>CustomerName</th>\n",
              "            <th>Email</th>\n",
              "            <th>Phone</th>\n",
              "        </tr>\n",
              "    </thead>\n",
              "    <tbody>\n",
              "        <tr>\n",
              "            <td>1</td>\n",
              "            <td>John Smith</td>\n",
              "            <td>john@example.com</td>\n",
              "            <td>123-456-7890</td>\n",
              "        </tr>\n",
              "        <tr>\n",
              "            <td>2</td>\n",
              "            <td>Jane Doe</td>\n",
              "            <td>jane.doe@example.com</td>\n",
              "            <td>987-654-3210</td>\n",
              "        </tr>\n",
              "        <tr>\n",
              "            <td>3</td>\n",
              "            <td>Alice Brown</td>\n",
              "            <td>alice.brown@example.com</td>\n",
              "            <td>456-789-0123</td>\n",
              "        </tr>\n",
              "    </tbody>\n",
              "</table>"
            ]
          },
          "metadata": {},
          "execution_count": 14
        }
      ]
    },
    {
      "cell_type": "code",
      "source": [
        "%%sql\n",
        "SELECT * FROM Orders;"
      ],
      "metadata": {
        "colab": {
          "base_uri": "https://localhost:8080/",
          "height": 139
        },
        "id": "v6w6GUxV_IBY",
        "outputId": "60afe25c-a903-4dcb-e2a3-cecec5b0bc31"
      },
      "execution_count": null,
      "outputs": [
        {
          "output_type": "stream",
          "name": "stdout",
          "text": [
            " * sqlite:///chinook.db\n",
            "Done.\n"
          ]
        },
        {
          "output_type": "execute_result",
          "data": {
            "text/plain": [
              "[(101, 1, '2024-05-01'), (102, 2, '2024-05-02'), (103, 3, '2024-05-01')]"
            ],
            "text/html": [
              "<table>\n",
              "    <thead>\n",
              "        <tr>\n",
              "            <th>OrderID</th>\n",
              "            <th>CustomerID</th>\n",
              "            <th>OrderDate</th>\n",
              "        </tr>\n",
              "    </thead>\n",
              "    <tbody>\n",
              "        <tr>\n",
              "            <td>101</td>\n",
              "            <td>1</td>\n",
              "            <td>2024-05-01</td>\n",
              "        </tr>\n",
              "        <tr>\n",
              "            <td>102</td>\n",
              "            <td>2</td>\n",
              "            <td>2024-05-02</td>\n",
              "        </tr>\n",
              "        <tr>\n",
              "            <td>103</td>\n",
              "            <td>3</td>\n",
              "            <td>2024-05-01</td>\n",
              "        </tr>\n",
              "    </tbody>\n",
              "</table>"
            ]
          },
          "metadata": {},
          "execution_count": 15
        }
      ]
    },
    {
      "cell_type": "code",
      "source": [
        "%%sql\n",
        "SELECT * FROM OrderDetails;"
      ],
      "metadata": {
        "colab": {
          "base_uri": "https://localhost:8080/",
          "height": 182
        },
        "id": "bPNFlvgI_W8Y",
        "outputId": "cd003eae-41f8-44cd-9e14-f1710cedccd6"
      },
      "execution_count": null,
      "outputs": [
        {
          "output_type": "stream",
          "name": "stdout",
          "text": [
            " * sqlite:///chinook.db\n",
            "Done.\n"
          ]
        },
        {
          "output_type": "execute_result",
          "data": {
            "text/plain": [
              "[(1, 101, 1, 2),\n",
              " (2, 101, 3, 1),\n",
              " (3, 102, 2, 3),\n",
              " (4, 102, 4, 2),\n",
              " (5, 103, 5, 1)]"
            ],
            "text/html": [
              "<table>\n",
              "    <thead>\n",
              "        <tr>\n",
              "            <th>OrderDetailID</th>\n",
              "            <th>OrderID</th>\n",
              "            <th>ProductID</th>\n",
              "            <th>Quantity</th>\n",
              "        </tr>\n",
              "    </thead>\n",
              "    <tbody>\n",
              "        <tr>\n",
              "            <td>1</td>\n",
              "            <td>101</td>\n",
              "            <td>1</td>\n",
              "            <td>2</td>\n",
              "        </tr>\n",
              "        <tr>\n",
              "            <td>2</td>\n",
              "            <td>101</td>\n",
              "            <td>3</td>\n",
              "            <td>1</td>\n",
              "        </tr>\n",
              "        <tr>\n",
              "            <td>3</td>\n",
              "            <td>102</td>\n",
              "            <td>2</td>\n",
              "            <td>3</td>\n",
              "        </tr>\n",
              "        <tr>\n",
              "            <td>4</td>\n",
              "            <td>102</td>\n",
              "            <td>4</td>\n",
              "            <td>2</td>\n",
              "        </tr>\n",
              "        <tr>\n",
              "            <td>5</td>\n",
              "            <td>103</td>\n",
              "            <td>5</td>\n",
              "            <td>1</td>\n",
              "        </tr>\n",
              "    </tbody>\n",
              "</table>"
            ]
          },
          "metadata": {},
          "execution_count": 16
        }
      ]
    },
    {
      "cell_type": "code",
      "source": [
        "%%sql\n",
        "SELECT * FROM ProductTypes;"
      ],
      "metadata": {
        "colab": {
          "base_uri": "https://localhost:8080/",
          "height": 139
        },
        "id": "VAjEmo4F_ckC",
        "outputId": "aa1afd68-86af-45fa-9350-099cc86a7f59"
      },
      "execution_count": null,
      "outputs": [
        {
          "output_type": "stream",
          "name": "stdout",
          "text": [
            " * sqlite:///chinook.db\n",
            "Done.\n"
          ]
        },
        {
          "output_type": "execute_result",
          "data": {
            "text/plain": [
              "[(1, 'Widget'), (2, 'Gadget'), (3, 'Doohickey')]"
            ],
            "text/html": [
              "<table>\n",
              "    <thead>\n",
              "        <tr>\n",
              "            <th>ProductTypeID</th>\n",
              "            <th>ProductTypeName</th>\n",
              "        </tr>\n",
              "    </thead>\n",
              "    <tbody>\n",
              "        <tr>\n",
              "            <td>1</td>\n",
              "            <td>Widget</td>\n",
              "        </tr>\n",
              "        <tr>\n",
              "            <td>2</td>\n",
              "            <td>Gadget</td>\n",
              "        </tr>\n",
              "        <tr>\n",
              "            <td>3</td>\n",
              "            <td>Doohickey</td>\n",
              "        </tr>\n",
              "    </tbody>\n",
              "</table>"
            ]
          },
          "metadata": {},
          "execution_count": 17
        }
      ]
    },
    {
      "cell_type": "code",
      "source": [
        "%%sql\n",
        "SELECT Products.ProductName, SUM(OrderDetails.Quantity) AS TotalQuantity\n",
        "FROM Products\n",
        "JOIN OrderDetails ON Products.ProductID = OrderDetails.ProductID\n",
        "GROUP BY Products.ProductName;"
      ],
      "metadata": {
        "colab": {
          "base_uri": "https://localhost:8080/",
          "height": 182
        },
        "id": "Rcts7WNiEO4H",
        "outputId": "743f7866-cdc0-4745-9306-0cc283de08a1"
      },
      "execution_count": null,
      "outputs": [
        {
          "output_type": "stream",
          "name": "stdout",
          "text": [
            " * sqlite:///chinook.db\n",
            "Done.\n"
          ]
        },
        {
          "output_type": "execute_result",
          "data": {
            "text/plain": [
              "[('Doohickey Z', 1),\n",
              " ('Gadget X', 1),\n",
              " ('Gadget Y', 2),\n",
              " ('Widget A', 2),\n",
              " ('Widget B', 3)]"
            ],
            "text/html": [
              "<table>\n",
              "    <thead>\n",
              "        <tr>\n",
              "            <th>ProductName</th>\n",
              "            <th>TotalQuantity</th>\n",
              "        </tr>\n",
              "    </thead>\n",
              "    <tbody>\n",
              "        <tr>\n",
              "            <td>Doohickey Z</td>\n",
              "            <td>1</td>\n",
              "        </tr>\n",
              "        <tr>\n",
              "            <td>Gadget X</td>\n",
              "            <td>1</td>\n",
              "        </tr>\n",
              "        <tr>\n",
              "            <td>Gadget Y</td>\n",
              "            <td>2</td>\n",
              "        </tr>\n",
              "        <tr>\n",
              "            <td>Widget A</td>\n",
              "            <td>2</td>\n",
              "        </tr>\n",
              "        <tr>\n",
              "            <td>Widget B</td>\n",
              "            <td>3</td>\n",
              "        </tr>\n",
              "    </tbody>\n",
              "</table>"
            ]
          },
          "metadata": {},
          "execution_count": 18
        }
      ]
    },
    {
      "cell_type": "code",
      "source": [
        "%%sql\n",
        "SELECT Customers.CustomerName, COUNT(Orders.OrderID) AS TotalOrders\n",
        "FROM Orders\n",
        "JOIN Customers ON Orders.CustomerID = Customers.CustomerID\n",
        "GROUP BY Customers.CustomerName\n",
        "HAVING COUNT(DISTINCT Orders.OrderDate) = 3;\n"
      ],
      "metadata": {
        "colab": {
          "base_uri": "https://localhost:8080/",
          "height": 75
        },
        "id": "p-ip1kxaFUPL",
        "outputId": "1a183135-20f3-4b4e-addf-86095d6e75d9"
      },
      "execution_count": null,
      "outputs": [
        {
          "output_type": "stream",
          "name": "stdout",
          "text": [
            " * sqlite:///chinook.db\n",
            "Done.\n"
          ]
        },
        {
          "output_type": "execute_result",
          "data": {
            "text/plain": [
              "[]"
            ],
            "text/html": [
              "<table>\n",
              "    <thead>\n",
              "        <tr>\n",
              "            <th>CustomerName</th>\n",
              "            <th>TotalOrders</th>\n",
              "        </tr>\n",
              "    </thead>\n",
              "    <tbody>\n",
              "    </tbody>\n",
              "</table>"
            ]
          },
          "metadata": {},
          "execution_count": 19
        }
      ]
    },
    {
      "cell_type": "code",
      "source": [
        "%%sql\n",
        "SELECT Customers.CustomerName, COUNT(Orders.OrderID) AS TotalOrders\n",
        "FROM Orders\n",
        "JOIN Customers ON Orders.CustomerID = Customers.CustomerID\n",
        "GROUP BY Customers.CustomerName\n",
        "ORDER BY TotalOrders DESC\n",
        "LIMIT 1;\n"
      ],
      "metadata": {
        "colab": {
          "base_uri": "https://localhost:8080/",
          "height": 96
        },
        "id": "WjkOFilLG1zJ",
        "outputId": "4bb147c7-0a20-4b69-a8d2-44a967efc980"
      },
      "execution_count": null,
      "outputs": [
        {
          "output_type": "stream",
          "name": "stdout",
          "text": [
            " * sqlite:///chinook.db\n",
            "Done.\n"
          ]
        },
        {
          "output_type": "execute_result",
          "data": {
            "text/plain": [
              "[('John Smith', 1)]"
            ],
            "text/html": [
              "<table>\n",
              "    <thead>\n",
              "        <tr>\n",
              "            <th>CustomerName</th>\n",
              "            <th>TotalOrders</th>\n",
              "        </tr>\n",
              "    </thead>\n",
              "    <tbody>\n",
              "        <tr>\n",
              "            <td>John Smith</td>\n",
              "            <td>1</td>\n",
              "        </tr>\n",
              "    </tbody>\n",
              "</table>"
            ]
          },
          "metadata": {},
          "execution_count": 20
        }
      ]
    },
    {
      "cell_type": "code",
      "source": [
        "%%sql\n",
        "SELECT Products.ProductName, SUM(OrderDetails.Quantity) AS TotalQuantity\n",
        "FROM OrderDetails\n",
        "JOIN Products ON OrderDetails.ProductID = Products.ProductID\n",
        "GROUP BY Products.ProductName\n",
        "ORDER BY TotalQuantity DESC;\n"
      ],
      "metadata": {
        "colab": {
          "base_uri": "https://localhost:8080/",
          "height": 182
        },
        "id": "ZM-7O4O7G-ty",
        "outputId": "015d3797-e9b2-4a4d-d046-bee84aaf27d4"
      },
      "execution_count": null,
      "outputs": [
        {
          "output_type": "stream",
          "name": "stdout",
          "text": [
            " * sqlite:///chinook.db\n",
            "Done.\n"
          ]
        },
        {
          "output_type": "execute_result",
          "data": {
            "text/plain": [
              "[('Widget B', 3),\n",
              " ('Widget A', 2),\n",
              " ('Gadget Y', 2),\n",
              " ('Gadget X', 1),\n",
              " ('Doohickey Z', 1)]"
            ],
            "text/html": [
              "<table>\n",
              "    <thead>\n",
              "        <tr>\n",
              "            <th>ProductName</th>\n",
              "            <th>TotalQuantity</th>\n",
              "        </tr>\n",
              "    </thead>\n",
              "    <tbody>\n",
              "        <tr>\n",
              "            <td>Widget B</td>\n",
              "            <td>3</td>\n",
              "        </tr>\n",
              "        <tr>\n",
              "            <td>Widget A</td>\n",
              "            <td>2</td>\n",
              "        </tr>\n",
              "        <tr>\n",
              "            <td>Gadget Y</td>\n",
              "            <td>2</td>\n",
              "        </tr>\n",
              "        <tr>\n",
              "            <td>Gadget X</td>\n",
              "            <td>1</td>\n",
              "        </tr>\n",
              "        <tr>\n",
              "            <td>Doohickey Z</td>\n",
              "            <td>1</td>\n",
              "        </tr>\n",
              "    </tbody>\n",
              "</table>"
            ]
          },
          "metadata": {},
          "execution_count": 21
        }
      ]
    },
    {
      "cell_type": "code",
      "source": [
        "%%sql\n",
        "SELECT DISTINCT Customers.CustomerName\n",
        "FROM Orders\n",
        "JOIN OrderDetails ON Orders.OrderID = OrderDetails.OrderID\n",
        "JOIN Products ON OrderDetails.ProductID = Products.ProductID\n",
        "JOIN Customers ON Orders.CustomerID = Customers.CustomerID\n",
        "WHERE Products.ProductType = 'Widget';\n"
      ],
      "metadata": {
        "colab": {
          "base_uri": "https://localhost:8080/",
          "height": 118
        },
        "id": "yU5Dlvs-HEBV",
        "outputId": "138565e8-1482-458c-ca60-7a5fd49e6c9f"
      },
      "execution_count": null,
      "outputs": [
        {
          "output_type": "stream",
          "name": "stdout",
          "text": [
            " * sqlite:///chinook.db\n",
            "Done.\n"
          ]
        },
        {
          "output_type": "execute_result",
          "data": {
            "text/plain": [
              "[('John Smith',), ('Jane Doe',)]"
            ],
            "text/html": [
              "<table>\n",
              "    <thead>\n",
              "        <tr>\n",
              "            <th>CustomerName</th>\n",
              "        </tr>\n",
              "    </thead>\n",
              "    <tbody>\n",
              "        <tr>\n",
              "            <td>John Smith</td>\n",
              "        </tr>\n",
              "        <tr>\n",
              "            <td>Jane Doe</td>\n",
              "        </tr>\n",
              "    </tbody>\n",
              "</table>"
            ]
          },
          "metadata": {},
          "execution_count": 22
        }
      ]
    },
    {
      "cell_type": "code",
      "source": [
        "%%sql\n",
        "SELECT Customers.CustomerName,\n",
        "       SUM(CASE WHEN Products.ProductType = 'Widget' THEN OrderDetails.Quantity * Products.Price ELSE 0 END) AS TotalWidgetCost,\n",
        "       SUM(CASE WHEN Products.ProductType = 'Gadget' THEN OrderDetails.Quantity * Products.Price ELSE 0 END) AS TotalGadgetCost\n",
        "FROM Orders\n",
        "JOIN OrderDetails ON Orders.OrderID = OrderDetails.OrderID\n",
        "JOIN Products ON OrderDetails.ProductID = Products.ProductID\n",
        "JOIN Customers ON Orders.CustomerID = Customers.CustomerID\n",
        "WHERE Products.ProductType IN ('Widget', 'Gadget')\n",
        "GROUP BY Customers.CustomerName\n",
        "HAVING SUM(CASE WHEN Products.ProductType = 'Widget' THEN OrderDetails.Quantity ELSE 0 END) > 0\n",
        "   AND SUM(CASE WHEN Products.ProductType = 'Gadget' THEN OrderDetails.Quantity ELSE 0 END) > 0;\n"
      ],
      "metadata": {
        "colab": {
          "base_uri": "https://localhost:8080/",
          "height": 118
        },
        "id": "fqC6V5ljHLfW",
        "outputId": "a8ea6754-cc3a-40f8-cc8b-75d76838de87"
      },
      "execution_count": null,
      "outputs": [
        {
          "output_type": "stream",
          "name": "stdout",
          "text": [
            " * sqlite:///chinook.db\n",
            "Done.\n"
          ]
        },
        {
          "output_type": "execute_result",
          "data": {
            "text/plain": [
              "[('Jane Doe', 45, 50), ('John Smith', 20, 20)]"
            ],
            "text/html": [
              "<table>\n",
              "    <thead>\n",
              "        <tr>\n",
              "            <th>CustomerName</th>\n",
              "            <th>TotalWidgetCost</th>\n",
              "            <th>TotalGadgetCost</th>\n",
              "        </tr>\n",
              "    </thead>\n",
              "    <tbody>\n",
              "        <tr>\n",
              "            <td>Jane Doe</td>\n",
              "            <td>45</td>\n",
              "            <td>50</td>\n",
              "        </tr>\n",
              "        <tr>\n",
              "            <td>John Smith</td>\n",
              "            <td>20</td>\n",
              "            <td>20</td>\n",
              "        </tr>\n",
              "    </tbody>\n",
              "</table>"
            ]
          },
          "metadata": {},
          "execution_count": 23
        }
      ]
    },
    {
      "cell_type": "code",
      "source": [
        "%%sql\n",
        "SELECT Customers.CustomerName,\n",
        "       SUM(OrderDetails.Quantity * Products.Price) AS TotalGadgetCost\n",
        "FROM Orders\n",
        "JOIN OrderDetails ON Orders.OrderID = OrderDetails.OrderID\n",
        "JOIN Products ON OrderDetails.ProductID = Products.ProductID\n",
        "JOIN Customers ON Orders.CustomerID = Customers.CustomerID\n",
        "WHERE Products.ProductType = 'Gadget'\n",
        "GROUP BY Customers.CustomerName;\n"
      ],
      "metadata": {
        "colab": {
          "base_uri": "https://localhost:8080/",
          "height": 118
        },
        "id": "WO17r6vWHvoE",
        "outputId": "143e508e-a27c-48ed-cdb8-1e0df3994fac"
      },
      "execution_count": null,
      "outputs": [
        {
          "output_type": "stream",
          "name": "stdout",
          "text": [
            " * sqlite:///chinook.db\n",
            "Done.\n"
          ]
        },
        {
          "output_type": "execute_result",
          "data": {
            "text/plain": [
              "[('Jane Doe', 50), ('John Smith', 20)]"
            ],
            "text/html": [
              "<table>\n",
              "    <thead>\n",
              "        <tr>\n",
              "            <th>CustomerName</th>\n",
              "            <th>TotalGadgetCost</th>\n",
              "        </tr>\n",
              "    </thead>\n",
              "    <tbody>\n",
              "        <tr>\n",
              "            <td>Jane Doe</td>\n",
              "            <td>50</td>\n",
              "        </tr>\n",
              "        <tr>\n",
              "            <td>John Smith</td>\n",
              "            <td>20</td>\n",
              "        </tr>\n",
              "    </tbody>\n",
              "</table>"
            ]
          },
          "metadata": {},
          "execution_count": 24
        }
      ]
    },
    {
      "cell_type": "code",
      "source": [
        "%%sql\n",
        "SELECT Customers.CustomerName,\n",
        "       SUM(OrderDetails.Quantity * Products.Price) AS TotalDoohickeyCost\n",
        "FROM Orders\n",
        "JOIN OrderDetails ON Orders.OrderID = OrderDetails.OrderID\n",
        "JOIN Products ON OrderDetails.ProductID = Products.ProductID\n",
        "JOIN Customers ON Orders.CustomerID = Customers.CustomerID\n",
        "WHERE Products.ProductType = 'Doohickey'\n",
        "GROUP BY Customers.CustomerName;\n"
      ],
      "metadata": {
        "colab": {
          "base_uri": "https://localhost:8080/",
          "height": 96
        },
        "id": "6WFfWPRyH1GF",
        "outputId": "ff0821f6-e3af-4599-9259-1d8003c1ea41"
      },
      "execution_count": null,
      "outputs": [
        {
          "output_type": "stream",
          "name": "stdout",
          "text": [
            " * sqlite:///chinook.db\n",
            "Done.\n"
          ]
        },
        {
          "output_type": "execute_result",
          "data": {
            "text/plain": [
              "[('Alice Brown', 30)]"
            ],
            "text/html": [
              "<table>\n",
              "    <thead>\n",
              "        <tr>\n",
              "            <th>CustomerName</th>\n",
              "            <th>TotalDoohickeyCost</th>\n",
              "        </tr>\n",
              "    </thead>\n",
              "    <tbody>\n",
              "        <tr>\n",
              "            <td>Alice Brown</td>\n",
              "            <td>30</td>\n",
              "        </tr>\n",
              "    </tbody>\n",
              "</table>"
            ]
          },
          "metadata": {},
          "execution_count": 25
        }
      ]
    },
    {
      "cell_type": "code",
      "source": [
        "%%sql\n",
        "SELECT Customers.CustomerName, COUNT(Orders.OrderID) AS TotalOrders\n",
        "FROM Orders\n",
        "JOIN Customers ON Orders.CustomerID = Customers.CustomerID\n",
        "GROUP BY Customers.CustomerName\n",
        "HAVING COUNT(DISTINCT Orders.OrderDate) = 7;\n"
      ],
      "metadata": {
        "colab": {
          "base_uri": "https://localhost:8080/",
          "height": 75
        },
        "id": "tgUwhtmEKOwi",
        "outputId": "7d9445ae-82b6-4708-9da5-f5cc6ebf18c2"
      },
      "execution_count": null,
      "outputs": [
        {
          "output_type": "stream",
          "name": "stdout",
          "text": [
            " * sqlite:///chinook.db\n",
            "Done.\n"
          ]
        },
        {
          "output_type": "execute_result",
          "data": {
            "text/plain": [
              "[]"
            ],
            "text/html": [
              "<table>\n",
              "    <thead>\n",
              "        <tr>\n",
              "            <th>CustomerName</th>\n",
              "            <th>TotalOrders</th>\n",
              "        </tr>\n",
              "    </thead>\n",
              "    <tbody>\n",
              "    </tbody>\n",
              "</table>"
            ]
          },
          "metadata": {},
          "execution_count": 30
        }
      ]
    },
    {
      "cell_type": "code",
      "source": [
        "%%sql\n",
        "SELECT Customers.CustomerName,\n",
        "       SUM(CASE WHEN Products.ProductType = 'Widget' THEN OrderDetails.Quantity ELSE 0 END) AS TotalWidgetsOrdered,\n",
        "       SUM(CASE WHEN Products.ProductType = 'Gadget' THEN OrderDetails.Quantity ELSE 0 END) AS TotalGadgetsOrdered,\n",
        "       SUM(OrderDetails.Quantity * Products.Price) AS TotalOrderCost\n",
        "FROM Orders\n",
        "JOIN OrderDetails ON Orders.OrderID = OrderDetails.OrderID\n",
        "JOIN Products ON OrderDetails.ProductID = Products.ProductID\n",
        "JOIN Customers ON Orders.CustomerID = Customers.CustomerID\n",
        "GROUP BY Customers.CustomerName;\n",
        "\n"
      ],
      "metadata": {
        "colab": {
          "base_uri": "https://localhost:8080/",
          "height": 139
        },
        "id": "JBPciF7cKZLh",
        "outputId": "479c5a57-5c6d-48cc-c939-a2d267a5edeb"
      },
      "execution_count": null,
      "outputs": [
        {
          "output_type": "stream",
          "name": "stdout",
          "text": [
            " * sqlite:///chinook.db\n",
            "Done.\n"
          ]
        },
        {
          "output_type": "execute_result",
          "data": {
            "text/plain": [
              "[('Alice Brown', 0, 0, 30), ('Jane Doe', 3, 2, 95), ('John Smith', 2, 1, 40)]"
            ],
            "text/html": [
              "<table>\n",
              "    <thead>\n",
              "        <tr>\n",
              "            <th>CustomerName</th>\n",
              "            <th>TotalWidgetsOrdered</th>\n",
              "            <th>TotalGadgetsOrdered</th>\n",
              "            <th>TotalOrderCost</th>\n",
              "        </tr>\n",
              "    </thead>\n",
              "    <tbody>\n",
              "        <tr>\n",
              "            <td>Alice Brown</td>\n",
              "            <td>0</td>\n",
              "            <td>0</td>\n",
              "            <td>30</td>\n",
              "        </tr>\n",
              "        <tr>\n",
              "            <td>Jane Doe</td>\n",
              "            <td>3</td>\n",
              "            <td>2</td>\n",
              "            <td>95</td>\n",
              "        </tr>\n",
              "        <tr>\n",
              "            <td>John Smith</td>\n",
              "            <td>2</td>\n",
              "            <td>1</td>\n",
              "            <td>40</td>\n",
              "        </tr>\n",
              "    </tbody>\n",
              "</table>"
            ]
          },
          "metadata": {},
          "execution_count": 31
        }
      ]
    }
  ]
}