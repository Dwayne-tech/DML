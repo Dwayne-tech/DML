{
  "nbformat": 4,
  "nbformat_minor": 0,
  "metadata": {
    "colab": {
      "provenance": [],
      "authorship_tag": "ABX9TyPkGzpYAyEuhGOpG+leLwwO",
      "include_colab_link": true
    },
    "kernelspec": {
      "name": "python3",
      "display_name": "Python 3"
    },
    "language_info": {
      "name": "python"
    }
  },
  "cells": [
    {
      "cell_type": "markdown",
      "metadata": {
        "id": "view-in-github",
        "colab_type": "text"
      },
      "source": [
        "<a href=\"https://colab.research.google.com/github/Dwayne-tech/DML/blob/main/Copy_of_Python_Syntax.ipynb\" target=\"_parent\"><img src=\"https://colab.research.google.com/assets/colab-badge.svg\" alt=\"Open In Colab\"/></a>"
      ]
    },
    {
      "cell_type": "code",
      "execution_count": null,
      "metadata": {
        "colab": {
          "base_uri": "https://localhost:8080/"
        },
        "id": "a4Wx4NEP6JUg",
        "outputId": "c39e6288-542d-4f86-b64b-b421a5df19d2"
      },
      "outputs": [
        {
          "output_type": "stream",
          "name": "stdout",
          "text": [
            "Welcome to Python Pizza deliveries\n",
            "What size pizza do you want? S, M, or L m\n",
            "Do you want pepperoni? Y or N y\n",
            "Do you want extra cheese? Y or N y\n",
            "Your final bill is: $25.\n",
            "Thank you for ordering from Python Pizza deliveries\n"
          ]
        }
      ],
      "source": [
        "#Python pizza\n",
        "print(\"Welcome to Python Pizza deliveries\")\n",
        "size = input(\"What size pizza do you want? S, M, or L \")\n",
        "add_pepperoni = input(\"Do you want pepperoni? Y or N \")\n",
        "extra_cheese = input(\"Do you want extra cheese? Y or N \")\n",
        "#Order price\n",
        "bill = 0\n",
        "if size == \"S\":\n",
        "  bill += 15\n",
        "elif size == \"M\":\n",
        "  bill += 20\n",
        "else:\n",
        "  bill += 25\n",
        "if add_pepperoni == \"Y\":\n",
        "  if size == \"S\":\n",
        "    bill += 2\n",
        "  else:\n",
        "    bill += 3\n",
        "if extra_cheese == \"Y\":\n",
        "  bill += 1\n",
        "  #Final bill\n",
        "print(f\"Your final bill is: ${bill}.\")\n",
        "print(\"Thank you for ordering from Python Pizza deliveries\")"
      ]
    },
    {
      "cell_type": "code",
      "source": [],
      "metadata": {
        "id": "ILboxbQG7B-5"
      },
      "execution_count": null,
      "outputs": []
    }
  ]
}