{
  "nbformat": 4,
  "nbformat_minor": 0,
  "metadata": {
    "colab": {
      "provenance": [],
      "authorship_tag": "ABX9TyO6J0Y7Pj39BVTfjmgO48mZ",
      "include_colab_link": true
    },
    "kernelspec": {
      "name": "python3",
      "display_name": "Python 3"
    },
    "language_info": {
      "name": "python"
    }
  },
  "cells": [
    {
      "cell_type": "markdown",
      "metadata": {
        "id": "view-in-github",
        "colab_type": "text"
      },
      "source": [
        "<a href=\"https://colab.research.google.com/github/Dwayne-tech/DML/blob/main/Password_validator.ipynb\" target=\"_parent\"><img src=\"https://colab.research.google.com/assets/colab-badge.svg\" alt=\"Open In Colab\"/></a>"
      ]
    },
    {
      "cell_type": "code",
      "execution_count": null,
      "metadata": {
        "id": "epMzU_CRW26V"
      },
      "outputs": [],
      "source": [
        "#Password validator\n",
        "def validate_password(password):\n",
        "  #If and if not for password validation\n",
        "  if len(password) < 8:\n",
        "    return False\n",
        "\n",
        "  if not any(char.isupper() for char in password):\n",
        "    return (\"password must have a uppercase letter\")\n",
        "\n",
        "  if not any(char.islower() for char in password):\n",
        "    return (\"password must have a lowercase letter\")\n",
        "\n",
        "  if not any(char.isdigit() for char in password):\n",
        "    return(\"passwerd must have a digit\")\n",
        "\n",
        "  return (\"strong password!\")\n",
        "\n",
        "#Password input\n",
        "password = input(\"Enter a password: \")\n",
        "\n",
        "validation_results = validate_password(password)\n",
        "print(validation_results)\n",
        ""
      ]
    }
  ]
}