{
  "nbformat": 4,
  "nbformat_minor": 0,
  "metadata": {
    "colab": {
      "provenance": [],
      "authorship_tag": "ABX9TyOfaYXvKmYXuTInf1A9ADCz",
      "include_colab_link": true
    },
    "kernelspec": {
      "name": "python3",
      "display_name": "Python 3"
    },
    "language_info": {
      "name": "python"
    }
  },
  "cells": [
    {
      "cell_type": "markdown",
      "metadata": {
        "id": "view-in-github",
        "colab_type": "text"
      },
      "source": [
        "<a href=\"https://colab.research.google.com/github/Dwayne-tech/DML/blob/main/Numpy_calculator.ipynb\" target=\"_parent\"><img src=\"https://colab.research.google.com/assets/colab-badge.svg\" alt=\"Open In Colab\"/></a>"
      ]
    },
    {
      "cell_type": "code",
      "source": [
        "import math\n",
        "\n",
        "class Calculator:\n",
        "\n",
        "  def __init__(self):\n",
        "\n",
        "    self.operations = {\n",
        "      \"+\": self.add,\n",
        "      \"-\": self.subtract,\n",
        "      \"*\": self.multiply,\n",
        "      \"/\": self.divide,\n",
        "    }\n",
        "\n",
        "  def add_operation(self, symbol, function):\n",
        "\n",
        "    self.operations[symbol] = function\n",
        "\n",
        "  def calculate(self, num1, symbol, num2):\n",
        "\n",
        "    if symbol not in self.operations:\n",
        "      raise ValueError(f\"Invalid operation: {symbol}\")\n",
        "\n",
        "    if not isinstance(num1, (int, float)) or not isinstance(num2, (int, float)):\n",
        "      raise ValueError(\"Inputs must be numbers\")\n",
        "\n",
        "    return self.operations[symbol](num1, num2)\n",
        "\n",
        "  def add(self, num1, num2):\n",
        "\n",
        "    return num1 + num2\n",
        "\n",
        "  def subtract(self, num1, num2):\n",
        "\n",
        "    return num1 - num2\n",
        "\n",
        "  def multiply(self, num1, num2):\n",
        "\n",
        "    return num1 * num2\n",
        "\n",
        "  def divide(self, num1, num2):\n",
        "\n",
        "    if num2 == 0:\n",
        "      raise ZeroDivisionError(\"Division by zero\")\n",
        "    return num1 / num2\n",
        "\n",
        "def exponent(num1, num2):\n",
        "\n",
        "  return math.pow(num1, num2)\n",
        "\n",
        "def square_root(num):\n",
        "\n",
        "  if num < 0:\n",
        "    raise ValueError(\"Cannot take square root of a negative number\")\n",
        "  return math.sqrt(num)\n",
        "\n",
        "def logarithm(num, base=10):\n",
        "\n",
        "  if num <= 0:\n",
        "    raise ValueError(\"Logarithm of non-positive number is undefined\")\n",
        "  return math.log(num, base)\n",
        "\n",
        "# Add advanced operations to the calculator\n",
        "calculator = Calculator()\n",
        "calculator.add_operation(\"^\", exponent)\n",
        "calculator.add_operation(\"sqrt\", square_root)\n",
        "calculator.add_operation(\"log\", logarithm)\n",
        "\n",
        "# Main program loop\n",
        "while True:\n",
        "  try:\n",
        "    num1 = float(input(\"Enter the first number: \"))\n",
        "    symbol = input(\"Enter the operation (+, -, *, /, ^, sqrt, log): \")\n",
        "    num2 = float(input(\"Enter the second number: \")) if symbol not in [\"sqrt\", \"log\"] else float(input(\"Enter the number (for sqrt and log): \"))\n",
        "\n",
        "    result = calculator.calculate(num1, symbol, num2)\n",
        "    print(f\"{num1} {symbol} {num2} = {result}\")\n",
        "\n",
        "  except (ValueError, ZeroDivisionError) as e:\n",
        "    print(f\"Error: {e}\")\n",
        "\n",
        "  # Ask if user wants to continue\n",
        "  choice = input(\"Do you want to continue (y/n)? \")\n",
        "  if choice.lower() != \"y\":\n",
        "    break\n",
        "\n",
        "print(\"Thank you for using the calculator!\")"
      ],
      "metadata": {
        "id": "XPcPNmOUtm8_"
      },
      "execution_count": null,
      "outputs": []
    }
  ]
}