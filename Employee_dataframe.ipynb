{
  "nbformat": 4,
  "nbformat_minor": 0,
  "metadata": {
    "colab": {
      "provenance": [],
      "authorship_tag": "ABX9TyNIadaM/MVGnxEcq7N4/JFo",
      "include_colab_link": true
    },
    "kernelspec": {
      "name": "python3",
      "display_name": "Python 3"
    },
    "language_info": {
      "name": "python"
    }
  },
  "cells": [
    {
      "cell_type": "markdown",
      "metadata": {
        "id": "view-in-github",
        "colab_type": "text"
      },
      "source": [
        "<a href=\"https://colab.research.google.com/github/Dwayne-tech/DML/blob/main/Employee_dataframe.ipynb\" target=\"_parent\"><img src=\"https://colab.research.google.com/assets/colab-badge.svg\" alt=\"Open In Colab\"/></a>"
      ]
    },
    {
      "cell_type": "code",
      "execution_count": 7,
      "metadata": {
        "colab": {
          "base_uri": "https://localhost:8080/"
        },
        "id": "hI12Xw6qaBmL",
        "outputId": "85cc6a38-1433-4990-9419-a082df362146"
      },
      "outputs": [
        {
          "output_type": "stream",
          "name": "stdout",
          "text": [
            "First 3 rows:\n",
            "    Name Department  Age  Gender  Salary  Experience\n",
            "0  John         IT   30    Male   50000           3\n",
            "1  Mary  Marketing   40  Female   60000           7\n",
            "2   Bob      Sales   25    Male   45000           2\n",
            "\n",
            "Rows where Department is Marketing:\n",
            "    Name Department  Age  Gender  Salary  Experience\n",
            "1  Mary  Marketing   40  Female   60000           7\n",
            "5  Lisa  Marketing   28  Female   55000           4\n",
            "Age and Gender for first 4 rows:\n",
            "    Age  Gender\n",
            "0   30    Male\n",
            "1   40  Female\n",
            "2   25    Male\n",
            "3   35  Female\n",
            "Salary and Experience for Male:\n",
            "    Salary  Experience\n",
            "0   50000           3\n",
            "2   45000           2\n",
            "4   70000          10\n"
          ]
        }
      ],
      "source": [
        "import pandas as pd\n",
        "data = {'Name': ['John', 'Mary', 'Bob', 'Sarah', 'Tom', 'Lisa'], 'Department': ['IT', 'Marketing', 'Sales', 'IT', 'Finance', 'Marketing'], 'Age': [30, 40, 25, 35, 45, 28], 'Gender': ['Male', 'Female', 'Male', 'Female', 'Male', 'Female'], 'Salary': [50000, 60000, 45000, 55000, 70000, 55000], 'Experience': [3, 7, 2, 5, 10, 4]}\n",
        "employee_df = pd.DataFrame(data)\n",
        "\n",
        "#Use the iloc method to select the first 3 rows\n",
        "first_3_rows = employee_df.iloc[:3]\n",
        "print(\"First 3 rows:\\n\", first_3_rows)\n",
        "\n",
        "#Use the loc method to select all rows where the Department is \"Marketing\".\n",
        "marketing_rows = employee_df.loc[employee_df['Department'] == 'Marketing']\n",
        "print(\"\\nRows where Department is Marketing:\\n\", marketing_rows)\n",
        "\n",
        "#Use the iloc method to select the Age and Gender columns for the first 4 rows of the dataframe.\n",
        "age_gender_first_4 = employee_df.iloc[:4, [2, 3]]\n",
        "print(\"Age and Gender for first 4 rows:\\n\", age_gender_first_4)\n",
        "\n",
        "# Using loc to select Salary and Experience columns for all rows where Gender is \"Male\"\n",
        "salary_experience_male = employee_df.loc[employee_df['Gender'] == 'Male', ['Salary', 'Experience']]\n",
        "print(\"Salary and Experience for Male:\\n\", salary_experience_male)\n"
      ]
    }
  ]
}