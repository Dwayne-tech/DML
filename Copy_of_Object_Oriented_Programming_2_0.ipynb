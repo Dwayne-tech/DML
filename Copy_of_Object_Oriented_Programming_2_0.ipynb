{
  "nbformat": 4,
  "nbformat_minor": 0,
  "metadata": {
    "colab": {
      "provenance": [],
      "authorship_tag": "ABX9TyPI2FTue6DowNMrjkLu5Lj8",
      "include_colab_link": true
    },
    "kernelspec": {
      "name": "python3",
      "display_name": "Python 3"
    },
    "language_info": {
      "name": "python"
    }
  },
  "cells": [
    {
      "cell_type": "markdown",
      "metadata": {
        "id": "view-in-github",
        "colab_type": "text"
      },
      "source": [
        "<a href=\"https://colab.research.google.com/github/Dwayne-tech/DML/blob/main/Copy_of_Object_Oriented_Programming_2_0.ipynb\" target=\"_parent\"><img src=\"https://colab.research.google.com/assets/colab-badge.svg\" alt=\"Open In Colab\"/></a>"
      ]
    },
    {
      "cell_type": "code",
      "execution_count": null,
      "metadata": {
        "colab": {
          "base_uri": "https://localhost:8080/"
        },
        "id": "fBZqrY27OgGW",
        "outputId": "ce075e81-feff-4432-d72c-f595332fcdd7"
      },
      "outputs": [
        {
          "output_type": "stream",
          "name": "stdout",
          "text": [
            "\n",
            "Bank account:\n",
            "1. Check account balance\n",
            "2. Deposit Funds\n",
            "3. Withdraw funds\n",
            "4. Exit\n",
            "Enter your choice: 1\n",
            "Account Balance for Dwayne obiero: $1120000.0\n",
            "\n",
            "Bank account:\n",
            "1. Check account balance\n",
            "2. Deposit Funds\n",
            "3. Withdraw funds\n",
            "4. Exit\n",
            "Enter your choice: 2\n",
            "Enter amount to deposit: 3000\n",
            "Deposited $3000.0. New balance: $1123000.0\n",
            "\n",
            "Bank account:\n",
            "1. Check account balance\n",
            "2. Deposit Funds\n",
            "3. Withdraw funds\n",
            "4. Exit\n",
            "Enter your choice: 3\n",
            "Enter amount to withdraw: 2000000\n",
            "Invalid withdrawal amount or not enough funds.\n",
            "\n",
            "Bank account:\n",
            "1. Check account balance\n",
            "2. Deposit Funds\n",
            "3. Withdraw funds\n",
            "4. Exit\n",
            "Enter your choice: 4\n",
            "Exiting the Bank account.\n"
          ]
        }
      ],
      "source": [
        "## ## Bank account.py\n",
        "\n",
        "# Define the BankAccount class\n",
        "class BankAccount:\n",
        "  def __init__(self, account_number, account_holder, account_balance):\n",
        "    # Initialize the account attributes\n",
        "\n",
        "    self.account_number = account_number\n",
        "    self.account_holder = account_holder\n",
        "    self.account_balance = account_balance\n",
        "\n",
        "  def deposit(self, amount):\n",
        "    # Deposit the specified amount into the account\n",
        "    if amount > 0:\n",
        "      self.account_balance += amount #This line was not properly indented\n",
        "      print(f\"enter amount to deposit\")\n",
        "    else:\n",
        "      print(\" Amount must be greater than 0.\")\n",
        "  def withdraw(self, amount):\n",
        "    # Withdraw the specified amount from the account\n",
        "    if amount > 0 and amount <= self.account_balance: #\n",
        "      self.account_balance -= amount\n",
        "      print(f\"enter amount to withdraw\")\n",
        "    else:\n",
        "      print(\"Invalid withdrawal amount or not enough funds.\")\n",
        "  def check_balance(self):\n",
        "    # Display the account balance\n",
        "    print(f\"Check your account balance\")\n",
        "    return self.account_balance\n",
        "\n",
        "#User menu\n",
        "\n",
        "while True:\n",
        "        print(\"\\nBank account:\")\n",
        "        print(\"1. Check account balance\")\n",
        "        print(\"2. Deposit Funds\")\n",
        "        print(\"3. Withdraw funds\")\n",
        "        print(\"4. Exit\")\n",
        "        choice = input(\"Enter your choice: \")\n",
        "        if choice == '1':\n",
        "            # Assuming my_account is the active account\n",
        "            my_account.check_balance()\n",
        "        elif choice == '2':\n",
        "            try:\n",
        "                amount = float(input(\"Enter amount to deposit: \"))\n",
        "                my_account.deposit(amount)\n",
        "            except ValueError:\n",
        "                print(\"Invalid input. Please enter a numeric value.\")\n",
        "        elif choice == '3':\n",
        "            try:\n",
        "                amount = float(input(\"Enter amount to withdraw: \"))\n",
        "                my_account.withdraw(amount)\n",
        "            except ValueError:\n",
        "                print(\"Invalid input. Please enter a numeric value.\")\n",
        "        elif choice == '4':\n",
        "            print(\"Exiting the Bank account.\")\n",
        "            break\n",
        "        else:\n",
        "            print(\"Invalid choice. Please try again.\")\n",
        "\n",
        "\n",
        "\n"
      ]
    }
  ]
}