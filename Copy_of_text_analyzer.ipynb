{
  "nbformat": 4,
  "nbformat_minor": 0,
  "metadata": {
    "colab": {
      "provenance": [],
      "include_colab_link": true
    },
    "kernelspec": {
      "name": "python3",
      "display_name": "Python 3"
    },
    "language_info": {
      "name": "python"
    }
  },
  "cells": [
    {
      "cell_type": "markdown",
      "metadata": {
        "id": "view-in-github",
        "colab_type": "text"
      },
      "source": [
        "<a href=\"https://colab.research.google.com/github/Dwayne-tech/DML/blob/main/Copy_of_text_analyzer.ipynb\" target=\"_parent\"><img src=\"https://colab.research.google.com/assets/colab-badge.svg\" alt=\"Open In Colab\"/></a>"
      ]
    },
    {
      "cell_type": "code",
      "execution_count": null,
      "metadata": {
        "colab": {
          "base_uri": "https://localhost:8080/"
        },
        "id": "HwYVarKtMutd",
        "outputId": "d0f1d4d4-b628-4281-e1ab-d23395d5ac0c"
      },
      "outputs": [
        {
          "output_type": "stream",
          "name": "stdout",
          "text": [
            "Enter the text to analyze: his car, his watch, his house are all the same color.\n",
            "Total number of words: 11\n",
            "Most frequent word: his\n",
            "Top 5 most frequent words:\n",
            "his: 3\n",
            "car: 1\n",
            "watch: 1\n",
            "house: 1\n",
            "are: 1\n"
          ]
        }
      ],
      "source": [
        "import string\n",
        "from collections import Counter\n",
        "# What is Counter?\n",
        "# Counter is a dictionary subclass provided by the collections module that helps count the occurrences of elements in a list or any iterable.\n",
        "# It makes it easy to count how many times each word appears in the text and also provides convenient methods, such as most_common(), to quickly get the most frequent elements.\n",
        "# Without this import, we'd need to manually write a function to count word frequencies, which would make the code longer and more complex.\n",
        "\n",
        "# List of common words to exclude\n",
        "common_words = {'the', 'a', 'an', 'in', 'on', 'at', 'and', 'or', 'to', 'of', 'for', 'with', 'is', 'it', 'that', 'this'}\n",
        "\n",
        "# Function to analyze the text\n",
        "def analyze_text(text):\n",
        "    # Convert the text to lowercase and remove punctuation\n",
        "    text = text.lower().translate(str.maketrans('', '', string.punctuation))\n",
        "\n",
        "    # Split the text into words\n",
        "    words = text.split()\n",
        "\n",
        "    # Remove common words\n",
        "    filtered_words = [word for word in words if word not in common_words]\n",
        "\n",
        "    # Count the number of words\n",
        "    word_count = len(words)\n",
        "\n",
        "    # Find the most frequent words\n",
        "    word_frequency = Counter(filtered_words)\n",
        "\n",
        "    # Find the most frequent word\n",
        "    most_frequent_word = word_frequency.most_common(1)[0][0]\n",
        "\n",
        "    # Display the 5 most frequent words\n",
        "    most_frequent_words = word_frequency.most_common(5)\n",
        "\n",
        "    # Print results\n",
        "    print(f\"Total number of words: {word_count}\")\n",
        "    print(f\"Most frequent word: {most_frequent_word}\")\n",
        "    print(\"Top 5 most frequent words:\")\n",
        "    for word, freq in most_frequent_words:\n",
        "        print(f\"{word}: {freq}\")\n",
        "\n",
        "# Allow user to input the text\n",
        "input_text = input(\"Enter the text to analyze: \")\n",
        "\n",
        "# Analyze the input text\n",
        "analyze_text(input_text)\n"
      ]
    }
  ]
}