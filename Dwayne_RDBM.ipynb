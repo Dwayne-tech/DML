{
  "nbformat": 4,
  "nbformat_minor": 0,
  "metadata": {
    "colab": {
      "provenance": [],
      "authorship_tag": "ABX9TyMmRt9hlcT4hueTBajn+Oz/",
      "include_colab_link": true
    },
    "kernelspec": {
      "name": "python3",
      "display_name": "Python 3"
    },
    "language_info": {
      "name": "python"
    }
  },
  "cells": [
    {
      "cell_type": "markdown",
      "metadata": {
        "id": "view-in-github",
        "colab_type": "text"
      },
      "source": [
        "<a href=\"https://colab.research.google.com/github/Dwayne-tech/DML/blob/main/Dwayne_RDBM.ipynb\" target=\"_parent\"><img src=\"https://colab.research.google.com/assets/colab-badge.svg\" alt=\"Open In Colab\"/></a>"
      ]
    },
    {
      "cell_type": "code",
      "execution_count": null,
      "metadata": {
        "id": "hJ4Xrb11qhsB"
      },
      "outputs": [],
      "source": [
        "%load_ext sql\n",
        "%sql sqlite://\n"
      ]
    },
    {
      "cell_type": "code",
      "source": [
        "%%sql\n",
        "CREATE TABLE Wine (\n",
        "  WineID INT PRIMARY KEY,\n",
        "  Color VARCHAR(10),\n",
        "  Year INT,\n",
        "  Degree FLOAT,\n",
        "  ProducerID INT,\n",
        "  FOREIGN KEY (ProducerID) REFERENCES Producer(ProducerID)\n",
        ");"
      ],
      "metadata": {
        "id": "IeYsoHtTLfoe"
      },
      "execution_count": null,
      "outputs": []
    },
    {
      "cell_type": "code",
      "source": [
        "%%sql\n",
        "CREATE TABLE Producer (\n",
        "  ProducerID INT PRIMARY KEY,\n",
        "  FirstName VARCHAR(10),\n",
        "  LastName VARCHAR(10),\n",
        "  City VARCHAR(20)\n",
        ");"
      ],
      "metadata": {
        "id": "LbjgYonRLmi9"
      },
      "execution_count": null,
      "outputs": []
    },
    {
      "cell_type": "code",
      "source": [
        "%%sql\n",
        "INSERT INTO Wine(WineID, Color, Year, Degree) VALUES\n",
        "(1, 'Red', 2019, 13.5),\n",
        "(2, 'White', 2020, 12.0),\n",
        "(3, 'Rose', 2018, 11.5),\n",
        "(4, 'Red', 2021, 14.0),\n",
        "(5, 'Sparkling', 2017, 10.5),\n",
        "(6, 'White', 2019, 12.5),\n",
        "(7, 'Red', 2022, 13.0),\n",
        "(8, 'Rose', 2020, 11.0),\n",
        "(9, 'Red', 2018, 12.0),\n",
        "(10, 'Sparkling', 2019, 10.0),\n",
        "(11, 'White', 2021, 11.5),\n",
        "(12, 'Red', 2022, 15.0);"
      ],
      "metadata": {
        "id": "R8vUC_vFLrag"
      },
      "execution_count": null,
      "outputs": []
    },
    {
      "cell_type": "code",
      "source": [
        "%%sql\n",
        "Select * from wine;"
      ],
      "metadata": {
        "id": "hev-gAf8GvIX"
      },
      "execution_count": null,
      "outputs": []
    },
    {
      "cell_type": "code",
      "source": [
        "%%sql\n",
        "INSERT INTO Producer (ProducerID, FirstName, LastName, City) VALUES\n",
        "(1, 'John', 'Smith', 'Sousse'),\n",
        "(2, 'Emma', 'Johnson', 'Tunis'),\n",
        "(3, 'Michael', 'Williams', 'Sfax'),\n",
        "(4, 'Emily', 'Brown', 'Sousse'),\n",
        "(5, 'James', 'Jones', 'Sousse'),\n",
        "(6, 'Sarah', 'Davis', 'Tunis'),\n",
        "(7, 'David', 'Miller', 'Sfax'),\n",
        "(8, 'Olivia', 'Wilson', 'Monastir'),\n",
        "(9, 'Daniel', 'Moore', 'Sousse'),\n",
        "(10, 'Sophia', 'Taylor', 'Tunis'),\n",
        "(11, 'Matthew', 'Anderson', 'Sfax'),\n",
        "(12, 'Amelia', 'Thomas', 'Sousse');\n"
      ],
      "metadata": {
        "id": "vubg9MQ7Lz_u"
      },
      "execution_count": null,
      "outputs": []
    },
    {
      "cell_type": "code",
      "source": [
        "%%sql\n",
        "SELECT * FROM Producer;"
      ],
      "metadata": {
        "colab": {
          "base_uri": "https://localhost:8080/",
          "height": 331
        },
        "id": "SEaalGgmL5AV",
        "outputId": "47649d08-6b3b-4c8a-fbf7-89a0530e76c5"
      },
      "execution_count": null,
      "outputs": [
        {
          "output_type": "stream",
          "name": "stdout",
          "text": [
            " * sqlite://\n",
            "Done.\n"
          ]
        },
        {
          "output_type": "execute_result",
          "data": {
            "text/plain": [
              "[(1, 'John', 'Smith', 'Sousse'),\n",
              " (2, 'Emma', 'Johnson', 'Tunis'),\n",
              " (3, 'Michael', 'Williams', 'Sfax'),\n",
              " (4, 'Emily', 'Brown', 'Sousse'),\n",
              " (5, 'James', 'Jones', 'Sousse'),\n",
              " (6, 'Sarah', 'Davis', 'Tunis'),\n",
              " (7, 'David', 'Miller', 'Sfax'),\n",
              " (8, 'Olivia', 'Wilson', 'Monastir'),\n",
              " (9, 'Daniel', 'Moore', 'Sousse'),\n",
              " (10, 'Sophia', 'Taylor', 'Tunis'),\n",
              " (11, 'Matthew', 'Anderson', 'Sfax'),\n",
              " (12, 'Amelia', 'Thomas', 'Sousse')]"
            ],
            "text/html": [
              "<table>\n",
              "    <thead>\n",
              "        <tr>\n",
              "            <th>ProducerID</th>\n",
              "            <th>FirstName</th>\n",
              "            <th>LastName</th>\n",
              "            <th>City</th>\n",
              "        </tr>\n",
              "    </thead>\n",
              "    <tbody>\n",
              "        <tr>\n",
              "            <td>1</td>\n",
              "            <td>John</td>\n",
              "            <td>Smith</td>\n",
              "            <td>Sousse</td>\n",
              "        </tr>\n",
              "        <tr>\n",
              "            <td>2</td>\n",
              "            <td>Emma</td>\n",
              "            <td>Johnson</td>\n",
              "            <td>Tunis</td>\n",
              "        </tr>\n",
              "        <tr>\n",
              "            <td>3</td>\n",
              "            <td>Michael</td>\n",
              "            <td>Williams</td>\n",
              "            <td>Sfax</td>\n",
              "        </tr>\n",
              "        <tr>\n",
              "            <td>4</td>\n",
              "            <td>Emily</td>\n",
              "            <td>Brown</td>\n",
              "            <td>Sousse</td>\n",
              "        </tr>\n",
              "        <tr>\n",
              "            <td>5</td>\n",
              "            <td>James</td>\n",
              "            <td>Jones</td>\n",
              "            <td>Sousse</td>\n",
              "        </tr>\n",
              "        <tr>\n",
              "            <td>6</td>\n",
              "            <td>Sarah</td>\n",
              "            <td>Davis</td>\n",
              "            <td>Tunis</td>\n",
              "        </tr>\n",
              "        <tr>\n",
              "            <td>7</td>\n",
              "            <td>David</td>\n",
              "            <td>Miller</td>\n",
              "            <td>Sfax</td>\n",
              "        </tr>\n",
              "        <tr>\n",
              "            <td>8</td>\n",
              "            <td>Olivia</td>\n",
              "            <td>Wilson</td>\n",
              "            <td>Monastir</td>\n",
              "        </tr>\n",
              "        <tr>\n",
              "            <td>9</td>\n",
              "            <td>Daniel</td>\n",
              "            <td>Moore</td>\n",
              "            <td>Sousse</td>\n",
              "        </tr>\n",
              "        <tr>\n",
              "            <td>10</td>\n",
              "            <td>Sophia</td>\n",
              "            <td>Taylor</td>\n",
              "            <td>Tunis</td>\n",
              "        </tr>\n",
              "        <tr>\n",
              "            <td>11</td>\n",
              "            <td>Matthew</td>\n",
              "            <td>Anderson</td>\n",
              "            <td>Sfax</td>\n",
              "        </tr>\n",
              "        <tr>\n",
              "            <td>12</td>\n",
              "            <td>Amelia</td>\n",
              "            <td>Thomas</td>\n",
              "            <td>Sousse</td>\n",
              "        </tr>\n",
              "    </tbody>\n",
              "</table>"
            ]
          },
          "metadata": {},
          "execution_count": 7
        }
      ]
    },
    {
      "cell_type": "code",
      "source": [
        "%%sql\n",
        "SELECT * FROM Producer\n",
        "ORDER BY LastName, FirstName;"
      ],
      "metadata": {
        "colab": {
          "base_uri": "https://localhost:8080/",
          "height": 331
        },
        "id": "VDJRBhelMty0",
        "outputId": "2bf11f6d-5518-4bbc-fd9c-efad1fe766ee"
      },
      "execution_count": null,
      "outputs": [
        {
          "output_type": "stream",
          "name": "stdout",
          "text": [
            " * sqlite://\n",
            "Done.\n"
          ]
        },
        {
          "output_type": "execute_result",
          "data": {
            "text/plain": [
              "[(11, 'Matthew', 'Anderson', 'Sfax'),\n",
              " (4, 'Emily', 'Brown', 'Sousse'),\n",
              " (6, 'Sarah', 'Davis', 'Tunis'),\n",
              " (2, 'Emma', 'Johnson', 'Tunis'),\n",
              " (5, 'James', 'Jones', 'Sousse'),\n",
              " (7, 'David', 'Miller', 'Sfax'),\n",
              " (9, 'Daniel', 'Moore', 'Sousse'),\n",
              " (1, 'John', 'Smith', 'Sousse'),\n",
              " (10, 'Sophia', 'Taylor', 'Tunis'),\n",
              " (12, 'Amelia', 'Thomas', 'Sousse'),\n",
              " (3, 'Michael', 'Williams', 'Sfax'),\n",
              " (8, 'Olivia', 'Wilson', 'Monastir')]"
            ],
            "text/html": [
              "<table>\n",
              "    <thead>\n",
              "        <tr>\n",
              "            <th>ProducerID</th>\n",
              "            <th>FirstName</th>\n",
              "            <th>LastName</th>\n",
              "            <th>City</th>\n",
              "        </tr>\n",
              "    </thead>\n",
              "    <tbody>\n",
              "        <tr>\n",
              "            <td>11</td>\n",
              "            <td>Matthew</td>\n",
              "            <td>Anderson</td>\n",
              "            <td>Sfax</td>\n",
              "        </tr>\n",
              "        <tr>\n",
              "            <td>4</td>\n",
              "            <td>Emily</td>\n",
              "            <td>Brown</td>\n",
              "            <td>Sousse</td>\n",
              "        </tr>\n",
              "        <tr>\n",
              "            <td>6</td>\n",
              "            <td>Sarah</td>\n",
              "            <td>Davis</td>\n",
              "            <td>Tunis</td>\n",
              "        </tr>\n",
              "        <tr>\n",
              "            <td>2</td>\n",
              "            <td>Emma</td>\n",
              "            <td>Johnson</td>\n",
              "            <td>Tunis</td>\n",
              "        </tr>\n",
              "        <tr>\n",
              "            <td>5</td>\n",
              "            <td>James</td>\n",
              "            <td>Jones</td>\n",
              "            <td>Sousse</td>\n",
              "        </tr>\n",
              "        <tr>\n",
              "            <td>7</td>\n",
              "            <td>David</td>\n",
              "            <td>Miller</td>\n",
              "            <td>Sfax</td>\n",
              "        </tr>\n",
              "        <tr>\n",
              "            <td>9</td>\n",
              "            <td>Daniel</td>\n",
              "            <td>Moore</td>\n",
              "            <td>Sousse</td>\n",
              "        </tr>\n",
              "        <tr>\n",
              "            <td>1</td>\n",
              "            <td>John</td>\n",
              "            <td>Smith</td>\n",
              "            <td>Sousse</td>\n",
              "        </tr>\n",
              "        <tr>\n",
              "            <td>10</td>\n",
              "            <td>Sophia</td>\n",
              "            <td>Taylor</td>\n",
              "            <td>Tunis</td>\n",
              "        </tr>\n",
              "        <tr>\n",
              "            <td>12</td>\n",
              "            <td>Amelia</td>\n",
              "            <td>Thomas</td>\n",
              "            <td>Sousse</td>\n",
              "        </tr>\n",
              "        <tr>\n",
              "            <td>3</td>\n",
              "            <td>Michael</td>\n",
              "            <td>Williams</td>\n",
              "            <td>Sfax</td>\n",
              "        </tr>\n",
              "        <tr>\n",
              "            <td>8</td>\n",
              "            <td>Olivia</td>\n",
              "            <td>Wilson</td>\n",
              "            <td>Monastir</td>\n",
              "        </tr>\n",
              "    </tbody>\n",
              "</table>"
            ]
          },
          "metadata": {},
          "execution_count": 8
        }
      ]
    },
    {
      "cell_type": "code",
      "source": [
        "%%sql\n",
        "SELECT * FROM Producer WHERE City = 'Sousse';"
      ],
      "metadata": {
        "colab": {
          "base_uri": "https://localhost:8080/",
          "height": 182
        },
        "id": "U0alE3zdMyCJ",
        "outputId": "416c50c6-7be1-473b-f14c-9dfe14cd46aa"
      },
      "execution_count": null,
      "outputs": [
        {
          "output_type": "stream",
          "name": "stdout",
          "text": [
            " * sqlite://\n",
            "Done.\n"
          ]
        },
        {
          "output_type": "execute_result",
          "data": {
            "text/plain": [
              "[(1, 'John', 'Smith', 'Sousse'),\n",
              " (4, 'Emily', 'Brown', 'Sousse'),\n",
              " (5, 'James', 'Jones', 'Sousse'),\n",
              " (9, 'Daniel', 'Moore', 'Sousse'),\n",
              " (12, 'Amelia', 'Thomas', 'Sousse')]"
            ],
            "text/html": [
              "<table>\n",
              "    <thead>\n",
              "        <tr>\n",
              "            <th>ProducerID</th>\n",
              "            <th>FirstName</th>\n",
              "            <th>LastName</th>\n",
              "            <th>City</th>\n",
              "        </tr>\n",
              "    </thead>\n",
              "    <tbody>\n",
              "        <tr>\n",
              "            <td>1</td>\n",
              "            <td>John</td>\n",
              "            <td>Smith</td>\n",
              "            <td>Sousse</td>\n",
              "        </tr>\n",
              "        <tr>\n",
              "            <td>4</td>\n",
              "            <td>Emily</td>\n",
              "            <td>Brown</td>\n",
              "            <td>Sousse</td>\n",
              "        </tr>\n",
              "        <tr>\n",
              "            <td>5</td>\n",
              "            <td>James</td>\n",
              "            <td>Jones</td>\n",
              "            <td>Sousse</td>\n",
              "        </tr>\n",
              "        <tr>\n",
              "            <td>9</td>\n",
              "            <td>Daniel</td>\n",
              "            <td>Moore</td>\n",
              "            <td>Sousse</td>\n",
              "        </tr>\n",
              "        <tr>\n",
              "            <td>12</td>\n",
              "            <td>Amelia</td>\n",
              "            <td>Thomas</td>\n",
              "            <td>Sousse</td>\n",
              "        </tr>\n",
              "    </tbody>\n",
              "</table>"
            ]
          },
          "metadata": {},
          "execution_count": 9
        }
      ]
    },
    {
      "cell_type": "code",
      "source": [
        "%%sql\n",
        "SELECT * FROM Wine\n",
        "WHERE WineID = 12;"
      ],
      "metadata": {
        "colab": {
          "base_uri": "https://localhost:8080/",
          "height": 96
        },
        "id": "5qJUoMw6M409",
        "outputId": "2c604684-128c-4403-a96c-86eaa4a0c69d"
      },
      "execution_count": null,
      "outputs": [
        {
          "output_type": "stream",
          "name": "stdout",
          "text": [
            " * sqlite://\n",
            "Done.\n"
          ]
        },
        {
          "output_type": "execute_result",
          "data": {
            "text/plain": [
              "[(12, 'Red', 2022, 15.0, None)]"
            ],
            "text/html": [
              "<table>\n",
              "    <thead>\n",
              "        <tr>\n",
              "            <th>WineID</th>\n",
              "            <th>Color</th>\n",
              "            <th>Year</th>\n",
              "            <th>Degree</th>\n",
              "            <th>ProducerID</th>\n",
              "        </tr>\n",
              "    </thead>\n",
              "    <tbody>\n",
              "        <tr>\n",
              "            <td>12</td>\n",
              "            <td>Red</td>\n",
              "            <td>2022</td>\n",
              "            <td>15.0</td>\n",
              "            <td>None</td>\n",
              "        </tr>\n",
              "    </tbody>\n",
              "</table>"
            ]
          },
          "metadata": {},
          "execution_count": 10
        }
      ]
    },
    {
      "cell_type": "code",
      "source": [
        "%%sql\n",
        "SELECT Color, SUM(Degree) AS TotalDegree\n",
        "FROM Wine\n",
        "GROUP BY Color;"
      ],
      "metadata": {
        "colab": {
          "base_uri": "https://localhost:8080/",
          "height": 160
        },
        "id": "6CgI816CM-t_",
        "outputId": "2bbb460e-a96e-414a-b30d-2a1a15975116"
      },
      "execution_count": null,
      "outputs": [
        {
          "output_type": "stream",
          "name": "stdout",
          "text": [
            " * sqlite://\n",
            "Done.\n"
          ]
        },
        {
          "output_type": "execute_result",
          "data": {
            "text/plain": [
              "[('Red', 67.5), ('Rose', 22.5), ('Sparkling', 20.5), ('White', 36.0)]"
            ],
            "text/html": [
              "<table>\n",
              "    <thead>\n",
              "        <tr>\n",
              "            <th>Color</th>\n",
              "            <th>TotalDegree</th>\n",
              "        </tr>\n",
              "    </thead>\n",
              "    <tbody>\n",
              "        <tr>\n",
              "            <td>Red</td>\n",
              "            <td>67.5</td>\n",
              "        </tr>\n",
              "        <tr>\n",
              "            <td>Rose</td>\n",
              "            <td>22.5</td>\n",
              "        </tr>\n",
              "        <tr>\n",
              "            <td>Sparkling</td>\n",
              "            <td>20.5</td>\n",
              "        </tr>\n",
              "        <tr>\n",
              "            <td>White</td>\n",
              "            <td>36.0</td>\n",
              "        </tr>\n",
              "    </tbody>\n",
              "</table>"
            ]
          },
          "metadata": {},
          "execution_count": 11
        }
      ]
    },
    {
      "cell_type": "code",
      "source": [
        "%%sql\n",
        "SELECT FirstName, LastName\n",
        "FROM Producer\n",
        "JOIN Wine ON Producer.ProducerID = Wine.ProducerID\n",
        "WHERE Producer.City = 'Sousse' AND Wine.Degree > 300\n",
        "GROUP BY FirstName, LastName\n",
        "HAVING COUNT(Wine.WineID) > 0;\n"
      ],
      "metadata": {
        "colab": {
          "base_uri": "https://localhost:8080/",
          "height": 75
        },
        "id": "ReTMQFDTNCsL",
        "outputId": "e3c3300a-161d-404f-8b1b-868cf0b2e47b"
      },
      "execution_count": null,
      "outputs": [
        {
          "output_type": "stream",
          "name": "stdout",
          "text": [
            " * sqlite://\n",
            "Done.\n"
          ]
        },
        {
          "output_type": "execute_result",
          "data": {
            "text/plain": [
              "[]"
            ],
            "text/html": [
              "<table>\n",
              "    <thead>\n",
              "        <tr>\n",
              "            <th>FirstName</th>\n",
              "            <th>LastName</th>\n",
              "        </tr>\n",
              "    </thead>\n",
              "    <tbody>\n",
              "    </tbody>\n",
              "</table>"
            ]
          },
          "metadata": {},
          "execution_count": 12
        }
      ]
    },
    {
      "cell_type": "code",
      "source": [
        "%%sql\n",
        "SELECT WineID\n",
        "FROM Wine\n",
        "WHERE Degree > 12 AND ProducerID = 12;"
      ],
      "metadata": {
        "colab": {
          "base_uri": "https://localhost:8080/",
          "height": 75
        },
        "id": "gYB41YWiNN2m",
        "outputId": "355d1b51-ace6-4d50-e835-aa0f58eef0ca"
      },
      "execution_count": null,
      "outputs": [
        {
          "output_type": "stream",
          "name": "stdout",
          "text": [
            " * sqlite://\n",
            "Done.\n"
          ]
        },
        {
          "output_type": "execute_result",
          "data": {
            "text/plain": [
              "[]"
            ],
            "text/html": [
              "<table>\n",
              "    <thead>\n",
              "        <tr>\n",
              "            <th>WineID</th>\n",
              "        </tr>\n",
              "    </thead>\n",
              "    <tbody>\n",
              "    </tbody>\n",
              "</table>"
            ]
          },
          "metadata": {},
          "execution_count": 13
        }
      ]
    },
    {
      "cell_type": "code",
      "source": [
        "%%sql\n",
        "SELECT FirstName, LastName\n",
        "FROM Producer\n",
        "WHERE ProducerID = (\n",
        "  SELECT ProducerID\n",
        "  FROM Wine\n",
        "  GROUP BY ProducerID\n",
        "  ORDER BY SUM(Degree) DESC\n",
        "  LIMIT 1\n",
        ");"
      ],
      "metadata": {
        "colab": {
          "base_uri": "https://localhost:8080/",
          "height": 75
        },
        "id": "JCc3FmD4NRYp",
        "outputId": "7d87aecf-9d8e-4287-a9b8-d3887415b94e"
      },
      "execution_count": null,
      "outputs": [
        {
          "output_type": "stream",
          "name": "stdout",
          "text": [
            " * sqlite://\n",
            "Done.\n"
          ]
        },
        {
          "output_type": "execute_result",
          "data": {
            "text/plain": [
              "[]"
            ],
            "text/html": [
              "<table>\n",
              "    <thead>\n",
              "        <tr>\n",
              "            <th>FirstName</th>\n",
              "            <th>LastName</th>\n",
              "        </tr>\n",
              "    </thead>\n",
              "    <tbody>\n",
              "    </tbody>\n",
              "</table>"
            ]
          },
          "metadata": {},
          "execution_count": 14
        }
      ]
    },
    {
      "cell_type": "code",
      "source": [
        "%%sql\n",
        "SELECT AVG(Degree) AS AverageDegree\n",
        "FROM Wine;"
      ],
      "metadata": {
        "colab": {
          "base_uri": "https://localhost:8080/",
          "height": 96
        },
        "id": "9gFGsgwJNVL7",
        "outputId": "4d7dce7b-dcee-4095-d014-35673eba14df"
      },
      "execution_count": null,
      "outputs": [
        {
          "output_type": "stream",
          "name": "stdout",
          "text": [
            " * sqlite://\n",
            "Done.\n"
          ]
        },
        {
          "output_type": "execute_result",
          "data": {
            "text/plain": [
              "[(12.208333333333334,)]"
            ],
            "text/html": [
              "<table>\n",
              "    <thead>\n",
              "        <tr>\n",
              "            <th>AverageDegree</th>\n",
              "        </tr>\n",
              "    </thead>\n",
              "    <tbody>\n",
              "        <tr>\n",
              "            <td>12.208333333333334</td>\n",
              "        </tr>\n",
              "    </tbody>\n",
              "</table>"
            ]
          },
          "metadata": {},
          "execution_count": 15
        }
      ]
    },
    {
      "cell_type": "code",
      "source": [
        "%%sql\n",
        "\n",
        "SELECT * FROM Wine\n",
        "ORDER BY Year ASC\n",
        "LIMIT 1;\n"
      ],
      "metadata": {
        "colab": {
          "base_uri": "https://localhost:8080/",
          "height": 96
        },
        "id": "LX16Cbq2NZPX",
        "outputId": "f161df26-93a0-4331-d13e-843a447259bf"
      },
      "execution_count": null,
      "outputs": [
        {
          "output_type": "stream",
          "name": "stdout",
          "text": [
            " * sqlite://\n",
            "Done.\n"
          ]
        },
        {
          "output_type": "execute_result",
          "data": {
            "text/plain": [
              "[(5, 'Sparkling', 2017, 10.5, None)]"
            ],
            "text/html": [
              "<table>\n",
              "    <thead>\n",
              "        <tr>\n",
              "            <th>WineID</th>\n",
              "            <th>Color</th>\n",
              "            <th>Year</th>\n",
              "            <th>Degree</th>\n",
              "            <th>ProducerID</th>\n",
              "        </tr>\n",
              "    </thead>\n",
              "    <tbody>\n",
              "        <tr>\n",
              "            <td>5</td>\n",
              "            <td>Sparkling</td>\n",
              "            <td>2017</td>\n",
              "            <td>10.5</td>\n",
              "            <td>None</td>\n",
              "        </tr>\n",
              "    </tbody>\n",
              "</table>"
            ]
          },
          "metadata": {},
          "execution_count": 16
        }
      ]
    },
    {
      "cell_type": "code",
      "source": [
        "%%sql\n",
        "SELECT FirstName, LastName, SUM(Degree) AS TotalDegree\n",
        "FROM Producer\n",
        "JOIN Wine ON Producer.ProducerID = Wine.ProducerID\n",
        "GROUP BY FirstName, LastName;\n"
      ],
      "metadata": {
        "colab": {
          "base_uri": "https://localhost:8080/",
          "height": 75
        },
        "id": "uJtlE6v1NeDv",
        "outputId": "561cf4fc-9356-4e1b-cc8b-854fdce2436a"
      },
      "execution_count": null,
      "outputs": [
        {
          "output_type": "stream",
          "name": "stdout",
          "text": [
            " * sqlite://\n",
            "Done.\n"
          ]
        },
        {
          "output_type": "execute_result",
          "data": {
            "text/plain": [
              "[]"
            ],
            "text/html": [
              "<table>\n",
              "    <thead>\n",
              "        <tr>\n",
              "            <th>FirstName</th>\n",
              "            <th>LastName</th>\n",
              "            <th>TotalDegree</th>\n",
              "        </tr>\n",
              "    </thead>\n",
              "    <tbody>\n",
              "    </tbody>\n",
              "</table>"
            ]
          },
          "metadata": {},
          "execution_count": 17
        }
      ]
    },
    {
      "cell_type": "code",
      "source": [
        "%%sql\n",
        "SELECT Wine.WineID, Wine.Color, Wine.Year, Wine.Degree, Producer.FirstName, Producer.LastName, Producer.City\n",
        "FROM Wine\n",
        "JOIN Producer ON Wine.ProducerID = Producer.ProducerID;"
      ],
      "metadata": {
        "id": "YkRHPM1iNib4",
        "outputId": "75477b52-4381-43e0-e99e-5c1723c157c9",
        "colab": {
          "base_uri": "https://localhost:8080/",
          "height": 75
        }
      },
      "execution_count": null,
      "outputs": [
        {
          "output_type": "stream",
          "name": "stdout",
          "text": [
            " * sqlite://\n",
            "Done.\n"
          ]
        },
        {
          "output_type": "execute_result",
          "data": {
            "text/plain": [
              "[]"
            ],
            "text/html": [
              "<table>\n",
              "    <thead>\n",
              "        <tr>\n",
              "            <th>WineID</th>\n",
              "            <th>Color</th>\n",
              "            <th>Year</th>\n",
              "            <th>Degree</th>\n",
              "            <th>FirstName</th>\n",
              "            <th>LastName</th>\n",
              "            <th>City</th>\n",
              "        </tr>\n",
              "    </thead>\n",
              "    <tbody>\n",
              "    </tbody>\n",
              "</table>"
            ]
          },
          "metadata": {},
          "execution_count": 18
        }
      ]
    }
  ]
}