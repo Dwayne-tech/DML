{
  "nbformat": 4,
  "nbformat_minor": 0,
  "metadata": {
    "colab": {
      "provenance": [],
      "authorship_tag": "ABX9TyPZns/LmjT5ccZst1PX1l6y",
      "include_colab_link": true
    },
    "kernelspec": {
      "name": "python3",
      "display_name": "Python 3"
    },
    "language_info": {
      "name": "python"
    }
  },
  "cells": [
    {
      "cell_type": "markdown",
      "metadata": {
        "id": "view-in-github",
        "colab_type": "text"
      },
      "source": [
        "<a href=\"https://colab.research.google.com/github/Dwayne-tech/DML/blob/main/Object_Oriented_Programming.ipynb\" target=\"_parent\"><img src=\"https://colab.research.google.com/assets/colab-badge.svg\" alt=\"Open In Colab\"/></a>"
      ]
    },
    {
      "cell_type": "code",
      "execution_count": 16,
      "metadata": {
        "colab": {
          "base_uri": "https://localhost:8080/",
          "height": 140
        },
        "id": "fBZqrY27OgGW",
        "outputId": "dfc4c295-db00-4fc1-d0e9-5cd72f8c24bf"
      },
      "outputs": [
        {
          "output_type": "stream",
          "name": "stdout",
          "text": [
            "Deposited $50000.0. New balance: $1050000.0\n",
            "Withdrew $20000.0. New balance: $1030000.0\n",
            "Account Balance for Dwayne obiero: $1030000.0\n",
            "Current balance: 1030000.0\n",
            "Account Balance for 15000.0: $Tahj Mahal\n",
            "Account Balance for 20000.0: $Pimp named Slickback\n"
          ]
        },
        {
          "output_type": "execute_result",
          "data": {
            "text/plain": [
              "'Pimp named Slickback'"
            ],
            "application/vnd.google.colaboratory.intrinsic+json": {
              "type": "string"
            }
          },
          "metadata": {},
          "execution_count": 16
        }
      ],
      "source": [
        "## Bank account.py\n",
        "\n",
        "# Define the BankAccount class\n",
        "class BankAccount:\n",
        "  def __init__(self, account_number, account_holder, account_balance):\n",
        "    # Initialize the account attributes\n",
        "\n",
        "    self.account_number = account_number\n",
        "    self.account_holder = account_holder\n",
        "    self.account_balance = account_balance\n",
        "\n",
        "  def deposit(self, amount):\n",
        "    # Deposit the specified amount into the account\n",
        "    if amount > 0:\n",
        "      self.account_balance += amount #This line was not properly indented\n",
        "      print(f\"Deposited ${amount}. New balance: ${self.account_balance}\")\n",
        "    else:\n",
        "      print(\" Amount must be greater than 0.\")\n",
        "  def withdraw(self, amount):\n",
        "    # Withdraw the specified amount from the account\n",
        "    if amount > 0 and amount <= self.account_balance: #\n",
        "      self.account_balance -= amount\n",
        "      print(f\"Withdrew ${amount}. New balance: ${self.account_balance}\")\n",
        "    else:\n",
        "      print(\"Invalid withdrawal amount or not enough funds.\")\n",
        "  def check_balance(self):\n",
        "    # Display the account balance\n",
        "    print(f\"Account Balance for {self.account_holder}: ${self.account_balance}\")\n",
        "    return self.account_balance\n",
        "  # Create an instance of the BankAccount class\n",
        "my_account = BankAccount(\"17388371\", \"Dwayne obiero\", 1000000.0)\n",
        "\n",
        "# Methods of the class\n",
        "my_account.deposit(50000.0)\n",
        "my_account.withdraw(20000.0)\n",
        "print(f\"Current balance: {my_account.check_balance()}\")\n",
        "\n",
        "\n",
        "# Instance 1\n",
        "account1 = BankAccount(\"987654321\", 15000.0, \"Tahj Mahal\")\n",
        "account2 = BankAccount(\"555555555\", 20000.0, \"Pimp named Slickback\")\n",
        "\n",
        "account1.check_balance()\n",
        "account2.check_balance()\n",
        "\n",
        "\n",
        "\n",
        "\n",
        "\n",
        ""
      ]
    }
  ]
}